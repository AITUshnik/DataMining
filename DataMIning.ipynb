{
 "cells": [
  {
   "cell_type": "code",
   "execution_count": 1,
   "metadata": {},
   "outputs": [],
   "source": [
    "import numpy as np\n",
    "import pandas as pd\n",
    "import matplotlib.pyplot as plt\n",
    "import seaborn as sns\n",
    "import re\n",
    "import plotly.express as px\n",
    "import plotly.graph_objects as go\n",
    "from collections import Counter\n",
    "from typing import List\n",
    "import statistics as st\n",
    "import scipy.stats"
   ]
  },
  {
   "cell_type": "code",
   "execution_count": 2,
   "metadata": {},
   "outputs": [
    {
     "data": {
      "text/plain": [
       "(6000, 2)"
      ]
     },
     "execution_count": 2,
     "metadata": {},
     "output_type": "execute_result"
    }
   ],
   "source": [
    "train = pd.read_csv('train_set.csv', index_col=0, sep=';').reset_index()\n",
    "train.shape"
   ]
  },
  {
   "cell_type": "code",
   "execution_count": 3,
   "metadata": {},
   "outputs": [
    {
     "data": {
      "text/html": [
       "<div>\n",
       "<style scoped>\n",
       "    .dataframe tbody tr th:only-of-type {\n",
       "        vertical-align: middle;\n",
       "    }\n",
       "\n",
       "    .dataframe tbody tr th {\n",
       "        vertical-align: top;\n",
       "    }\n",
       "\n",
       "    .dataframe thead th {\n",
       "        text-align: right;\n",
       "    }\n",
       "</style>\n",
       "<table border=\"1\" class=\"dataframe\">\n",
       "  <thead>\n",
       "    <tr style=\"text-align: right;\">\n",
       "      <th></th>\n",
       "      <th>client_id</th>\n",
       "      <th>target</th>\n",
       "    </tr>\n",
       "  </thead>\n",
       "  <tbody>\n",
       "    <tr>\n",
       "      <th>0</th>\n",
       "      <td>75063019</td>\n",
       "      <td>0</td>\n",
       "    </tr>\n",
       "    <tr>\n",
       "      <th>1</th>\n",
       "      <td>86227647</td>\n",
       "      <td>1</td>\n",
       "    </tr>\n",
       "    <tr>\n",
       "      <th>2</th>\n",
       "      <td>6506523</td>\n",
       "      <td>0</td>\n",
       "    </tr>\n",
       "    <tr>\n",
       "      <th>3</th>\n",
       "      <td>50615998</td>\n",
       "      <td>0</td>\n",
       "    </tr>\n",
       "    <tr>\n",
       "      <th>4</th>\n",
       "      <td>95213230</td>\n",
       "      <td>0</td>\n",
       "    </tr>\n",
       "    <tr>\n",
       "      <th>...</th>\n",
       "      <td>...</td>\n",
       "      <td>...</td>\n",
       "    </tr>\n",
       "    <tr>\n",
       "      <th>5995</th>\n",
       "      <td>71577803</td>\n",
       "      <td>0</td>\n",
       "    </tr>\n",
       "    <tr>\n",
       "      <th>5996</th>\n",
       "      <td>8128547</td>\n",
       "      <td>1</td>\n",
       "    </tr>\n",
       "    <tr>\n",
       "      <th>5997</th>\n",
       "      <td>26055781</td>\n",
       "      <td>0</td>\n",
       "    </tr>\n",
       "    <tr>\n",
       "      <th>5998</th>\n",
       "      <td>73504380</td>\n",
       "      <td>1</td>\n",
       "    </tr>\n",
       "    <tr>\n",
       "      <th>5999</th>\n",
       "      <td>1846496</td>\n",
       "      <td>0</td>\n",
       "    </tr>\n",
       "  </tbody>\n",
       "</table>\n",
       "<p>6000 rows × 2 columns</p>\n",
       "</div>"
      ],
      "text/plain": [
       "      client_id  target\n",
       "0      75063019       0\n",
       "1      86227647       1\n",
       "2       6506523       0\n",
       "3      50615998       0\n",
       "4      95213230       0\n",
       "...         ...     ...\n",
       "5995   71577803       0\n",
       "5996    8128547       1\n",
       "5997   26055781       0\n",
       "5998   73504380       1\n",
       "5999    1846496       0\n",
       "\n",
       "[6000 rows x 2 columns]"
      ]
     },
     "execution_count": 3,
     "metadata": {},
     "output_type": "execute_result"
    }
   ],
   "source": [
    "train"
   ]
  },
  {
   "cell_type": "code",
   "execution_count": 4,
   "metadata": {},
   "outputs": [
    {
     "name": "stdout",
     "output_type": "stream",
     "text": [
      "<class 'pandas.core.frame.DataFrame'>\n",
      "RangeIndex: 6000 entries, 0 to 5999\n",
      "Data columns (total 2 columns):\n",
      " #   Column     Non-Null Count  Dtype\n",
      "---  ------     --------------  -----\n",
      " 0   client_id  6000 non-null   int64\n",
      " 1   target     6000 non-null   int64\n",
      "dtypes: int64(2)\n",
      "memory usage: 93.9 KB\n"
     ]
    }
   ],
   "source": [
    "train.info()"
   ]
  },
  {
   "cell_type": "code",
   "execution_count": 5,
   "metadata": {},
   "outputs": [
    {
     "data": {
      "text/plain": [
       "client_id    0\n",
       "target       0\n",
       "dtype: int64"
      ]
     },
     "execution_count": 5,
     "metadata": {},
     "output_type": "execute_result"
    }
   ],
   "source": [
    "train.isnull().sum()"
   ]
  },
  {
   "cell_type": "code",
   "execution_count": 6,
   "metadata": {},
   "outputs": [
    {
     "data": {
      "text/html": [
       "<div>\n",
       "<style scoped>\n",
       "    .dataframe tbody tr th:only-of-type {\n",
       "        vertical-align: middle;\n",
       "    }\n",
       "\n",
       "    .dataframe tbody tr th {\n",
       "        vertical-align: top;\n",
       "    }\n",
       "\n",
       "    .dataframe thead th {\n",
       "        text-align: right;\n",
       "    }\n",
       "</style>\n",
       "<table border=\"1\" class=\"dataframe\">\n",
       "  <thead>\n",
       "    <tr style=\"text-align: right;\">\n",
       "      <th></th>\n",
       "      <th>client_id</th>\n",
       "      <th>target</th>\n",
       "    </tr>\n",
       "  </thead>\n",
       "  <tbody>\n",
       "    <tr>\n",
       "      <th>count</th>\n",
       "      <td>6.000000e+03</td>\n",
       "      <td>6000.000000</td>\n",
       "    </tr>\n",
       "    <tr>\n",
       "      <th>mean</th>\n",
       "      <td>5.102984e+07</td>\n",
       "      <td>0.443333</td>\n",
       "    </tr>\n",
       "    <tr>\n",
       "      <th>std</th>\n",
       "      <td>2.881391e+07</td>\n",
       "      <td>0.496820</td>\n",
       "    </tr>\n",
       "    <tr>\n",
       "      <th>min</th>\n",
       "      <td>2.289900e+04</td>\n",
       "      <td>0.000000</td>\n",
       "    </tr>\n",
       "    <tr>\n",
       "      <th>25%</th>\n",
       "      <td>2.612906e+07</td>\n",
       "      <td>0.000000</td>\n",
       "    </tr>\n",
       "    <tr>\n",
       "      <th>50%</th>\n",
       "      <td>5.164080e+07</td>\n",
       "      <td>0.000000</td>\n",
       "    </tr>\n",
       "    <tr>\n",
       "      <th>75%</th>\n",
       "      <td>7.590927e+07</td>\n",
       "      <td>1.000000</td>\n",
       "    </tr>\n",
       "    <tr>\n",
       "      <th>max</th>\n",
       "      <td>9.999124e+07</td>\n",
       "      <td>1.000000</td>\n",
       "    </tr>\n",
       "  </tbody>\n",
       "</table>\n",
       "</div>"
      ],
      "text/plain": [
       "          client_id       target\n",
       "count  6.000000e+03  6000.000000\n",
       "mean   5.102984e+07     0.443333\n",
       "std    2.881391e+07     0.496820\n",
       "min    2.289900e+04     0.000000\n",
       "25%    2.612906e+07     0.000000\n",
       "50%    5.164080e+07     0.000000\n",
       "75%    7.590927e+07     1.000000\n",
       "max    9.999124e+07     1.000000"
      ]
     },
     "execution_count": 6,
     "metadata": {},
     "output_type": "execute_result"
    }
   ],
   "source": [
    "train.describe()"
   ]
  },
  {
   "cell_type": "code",
   "execution_count": 7,
   "metadata": {},
   "outputs": [
    {
     "data": {
      "text/plain": [
       "(6000, 1)"
      ]
     },
     "execution_count": 7,
     "metadata": {},
     "output_type": "execute_result"
    }
   ],
   "source": [
    "train_set = pd.read_csv('train_set.csv', index_col=0, delimiter = \";\")\n",
    "train_set.shape"
   ]
  },
  {
   "cell_type": "code",
   "execution_count": 8,
   "metadata": {},
   "outputs": [
    {
     "name": "stdout",
     "output_type": "stream",
     "text": [
      "<class 'pandas.core.frame.DataFrame'>\n",
      "Int64Index: 6000 entries, 75063019 to 1846496\n",
      "Data columns (total 1 columns):\n",
      " #   Column  Non-Null Count  Dtype\n",
      "---  ------  --------------  -----\n",
      " 0   target  6000 non-null   int64\n",
      "dtypes: int64(1)\n",
      "memory usage: 93.8 KB\n"
     ]
    }
   ],
   "source": [
    "train_set.info()"
   ]
  },
  {
   "cell_type": "code",
   "execution_count": 9,
   "metadata": {},
   "outputs": [
    {
     "data": {
      "text/html": [
       "<div>\n",
       "<style scoped>\n",
       "    .dataframe tbody tr th:only-of-type {\n",
       "        vertical-align: middle;\n",
       "    }\n",
       "\n",
       "    .dataframe tbody tr th {\n",
       "        vertical-align: top;\n",
       "    }\n",
       "\n",
       "    .dataframe thead th {\n",
       "        text-align: right;\n",
       "    }\n",
       "</style>\n",
       "<table border=\"1\" class=\"dataframe\">\n",
       "  <thead>\n",
       "    <tr style=\"text-align: right;\">\n",
       "      <th></th>\n",
       "      <th>target</th>\n",
       "    </tr>\n",
       "  </thead>\n",
       "  <tbody>\n",
       "    <tr>\n",
       "      <th>count</th>\n",
       "      <td>6000.000000</td>\n",
       "    </tr>\n",
       "    <tr>\n",
       "      <th>mean</th>\n",
       "      <td>0.443333</td>\n",
       "    </tr>\n",
       "    <tr>\n",
       "      <th>std</th>\n",
       "      <td>0.496820</td>\n",
       "    </tr>\n",
       "    <tr>\n",
       "      <th>min</th>\n",
       "      <td>0.000000</td>\n",
       "    </tr>\n",
       "    <tr>\n",
       "      <th>25%</th>\n",
       "      <td>0.000000</td>\n",
       "    </tr>\n",
       "    <tr>\n",
       "      <th>50%</th>\n",
       "      <td>0.000000</td>\n",
       "    </tr>\n",
       "    <tr>\n",
       "      <th>75%</th>\n",
       "      <td>1.000000</td>\n",
       "    </tr>\n",
       "    <tr>\n",
       "      <th>max</th>\n",
       "      <td>1.000000</td>\n",
       "    </tr>\n",
       "  </tbody>\n",
       "</table>\n",
       "</div>"
      ],
      "text/plain": [
       "            target\n",
       "count  6000.000000\n",
       "mean      0.443333\n",
       "std       0.496820\n",
       "min       0.000000\n",
       "25%       0.000000\n",
       "50%       0.000000\n",
       "75%       1.000000\n",
       "max       1.000000"
      ]
     },
     "execution_count": 9,
     "metadata": {},
     "output_type": "execute_result"
    }
   ],
   "source": [
    "train_set.describe()"
   ]
  },
  {
   "cell_type": "code",
   "execution_count": 10,
   "metadata": {},
   "outputs": [
    {
     "data": {
      "text/plain": [
       "(130039, 5)"
      ]
     },
     "execution_count": 10,
     "metadata": {},
     "output_type": "execute_result"
    }
   ],
   "source": [
    "transactions = pd.read_csv('transactions.csv', delimiter = \";\")\n",
    "transactions.shape"
   ]
  },
  {
   "cell_type": "code",
   "execution_count": 11,
   "metadata": {},
   "outputs": [
    {
     "name": "stdout",
     "output_type": "stream",
     "text": [
      "<class 'pandas.core.frame.DataFrame'>\n",
      "RangeIndex: 130039 entries, 0 to 130038\n",
      "Data columns (total 5 columns):\n",
      " #   Column     Non-Null Count   Dtype  \n",
      "---  ------     --------------   -----  \n",
      " 0   client_id  130039 non-null  int64  \n",
      " 1   datetime   130039 non-null  object \n",
      " 2   code       130039 non-null  int64  \n",
      " 3   type       130039 non-null  int64  \n",
      " 4   sum        130039 non-null  float64\n",
      "dtypes: float64(1), int64(3), object(1)\n",
      "memory usage: 5.0+ MB\n"
     ]
    }
   ],
   "source": [
    "transactions.info()"
   ]
  },
  {
   "cell_type": "code",
   "execution_count": 12,
   "metadata": {},
   "outputs": [
    {
     "data": {
      "text/plain": [
       "client_id    0\n",
       "datetime     0\n",
       "code         0\n",
       "type         0\n",
       "sum          0\n",
       "dtype: int64"
      ]
     },
     "execution_count": 12,
     "metadata": {},
     "output_type": "execute_result"
    }
   ],
   "source": [
    "transactions.isnull().sum()"
   ]
  },
  {
   "cell_type": "code",
   "execution_count": 13,
   "metadata": {},
   "outputs": [
    {
     "data": {
      "text/html": [
       "<div>\n",
       "<style scoped>\n",
       "    .dataframe tbody tr th:only-of-type {\n",
       "        vertical-align: middle;\n",
       "    }\n",
       "\n",
       "    .dataframe tbody tr th {\n",
       "        vertical-align: top;\n",
       "    }\n",
       "\n",
       "    .dataframe thead th {\n",
       "        text-align: right;\n",
       "    }\n",
       "</style>\n",
       "<table border=\"1\" class=\"dataframe\">\n",
       "  <thead>\n",
       "    <tr style=\"text-align: right;\">\n",
       "      <th></th>\n",
       "      <th>client_id</th>\n",
       "      <th>datetime</th>\n",
       "      <th>code</th>\n",
       "      <th>type</th>\n",
       "      <th>sum</th>\n",
       "    </tr>\n",
       "  </thead>\n",
       "  <tbody>\n",
       "    <tr>\n",
       "      <th>0</th>\n",
       "      <td>96372458</td>\n",
       "      <td>421 06:33:15</td>\n",
       "      <td>6011</td>\n",
       "      <td>2010</td>\n",
       "      <td>-561478.94</td>\n",
       "    </tr>\n",
       "    <tr>\n",
       "      <th>1</th>\n",
       "      <td>24567813</td>\n",
       "      <td>377 17:20:40</td>\n",
       "      <td>6011</td>\n",
       "      <td>7010</td>\n",
       "      <td>67377.47</td>\n",
       "    </tr>\n",
       "    <tr>\n",
       "      <th>2</th>\n",
       "      <td>21717441</td>\n",
       "      <td>55 13:38:47</td>\n",
       "      <td>6011</td>\n",
       "      <td>2010</td>\n",
       "      <td>-44918.32</td>\n",
       "    </tr>\n",
       "    <tr>\n",
       "      <th>3</th>\n",
       "      <td>14331004</td>\n",
       "      <td>263 12:57:08</td>\n",
       "      <td>6011</td>\n",
       "      <td>2010</td>\n",
       "      <td>-3368873.66</td>\n",
       "    </tr>\n",
       "    <tr>\n",
       "      <th>4</th>\n",
       "      <td>85302434</td>\n",
       "      <td>151 10:34:12</td>\n",
       "      <td>4814</td>\n",
       "      <td>1030</td>\n",
       "      <td>-3368.87</td>\n",
       "    </tr>\n",
       "    <tr>\n",
       "      <th>...</th>\n",
       "      <td>...</td>\n",
       "      <td>...</td>\n",
       "      <td>...</td>\n",
       "      <td>...</td>\n",
       "      <td>...</td>\n",
       "    </tr>\n",
       "    <tr>\n",
       "      <th>130034</th>\n",
       "      <td>15836839</td>\n",
       "      <td>147 11:50:53</td>\n",
       "      <td>5411</td>\n",
       "      <td>1010</td>\n",
       "      <td>-26344.59</td>\n",
       "    </tr>\n",
       "    <tr>\n",
       "      <th>130035</th>\n",
       "      <td>28369355</td>\n",
       "      <td>305 11:59:34</td>\n",
       "      <td>4829</td>\n",
       "      <td>2330</td>\n",
       "      <td>-24705.07</td>\n",
       "    </tr>\n",
       "    <tr>\n",
       "      <th>130036</th>\n",
       "      <td>40949707</td>\n",
       "      <td>398 21:13:58</td>\n",
       "      <td>5411</td>\n",
       "      <td>1110</td>\n",
       "      <td>-40353.72</td>\n",
       "    </tr>\n",
       "    <tr>\n",
       "      <th>130037</th>\n",
       "      <td>7174462</td>\n",
       "      <td>409 13:58:14</td>\n",
       "      <td>5411</td>\n",
       "      <td>1010</td>\n",
       "      <td>-25536.06</td>\n",
       "    </tr>\n",
       "    <tr>\n",
       "      <th>130038</th>\n",
       "      <td>92197764</td>\n",
       "      <td>319 00:00:00</td>\n",
       "      <td>5533</td>\n",
       "      <td>1110</td>\n",
       "      <td>-12127.95</td>\n",
       "    </tr>\n",
       "  </tbody>\n",
       "</table>\n",
       "<p>130010 rows × 5 columns</p>\n",
       "</div>"
      ],
      "text/plain": [
       "        client_id      datetime  code  type         sum\n",
       "0        96372458  421 06:33:15  6011  2010  -561478.94\n",
       "1        24567813  377 17:20:40  6011  7010    67377.47\n",
       "2        21717441   55 13:38:47  6011  2010   -44918.32\n",
       "3        14331004  263 12:57:08  6011  2010 -3368873.66\n",
       "4        85302434  151 10:34:12  4814  1030    -3368.87\n",
       "...           ...           ...   ...   ...         ...\n",
       "130034   15836839  147 11:50:53  5411  1010   -26344.59\n",
       "130035   28369355  305 11:59:34  4829  2330   -24705.07\n",
       "130036   40949707  398 21:13:58  5411  1110   -40353.72\n",
       "130037    7174462  409 13:58:14  5411  1010   -25536.06\n",
       "130038   92197764  319 00:00:00  5533  1110   -12127.95\n",
       "\n",
       "[130010 rows x 5 columns]"
      ]
     },
     "execution_count": 13,
     "metadata": {},
     "output_type": "execute_result"
    }
   ],
   "source": [
    "transactions.drop_duplicates()"
   ]
  },
  {
   "cell_type": "code",
   "execution_count": 14,
   "metadata": {},
   "outputs": [
    {
     "data": {
      "text/plain": [
       "client_id      8656\n",
       "datetime     114770\n",
       "code            175\n",
       "type             67\n",
       "sum           27450\n",
       "dtype: int64"
      ]
     },
     "execution_count": 14,
     "metadata": {},
     "output_type": "execute_result"
    }
   ],
   "source": [
    "transactions.nunique()"
   ]
  },
  {
   "cell_type": "code",
   "execution_count": 15,
   "metadata": {},
   "outputs": [
    {
     "data": {
      "text/html": [
       "<div>\n",
       "<style scoped>\n",
       "    .dataframe tbody tr th:only-of-type {\n",
       "        vertical-align: middle;\n",
       "    }\n",
       "\n",
       "    .dataframe tbody tr th {\n",
       "        vertical-align: top;\n",
       "    }\n",
       "\n",
       "    .dataframe thead th {\n",
       "        text-align: right;\n",
       "    }\n",
       "</style>\n",
       "<table border=\"1\" class=\"dataframe\">\n",
       "  <thead>\n",
       "    <tr style=\"text-align: right;\">\n",
       "      <th></th>\n",
       "      <th>code</th>\n",
       "      <th>code_description</th>\n",
       "    </tr>\n",
       "  </thead>\n",
       "  <tbody>\n",
       "    <tr>\n",
       "      <th>0</th>\n",
       "      <td>5944</td>\n",
       "      <td>Магазины по продаже часов, ювелирных изделий и...</td>\n",
       "    </tr>\n",
       "    <tr>\n",
       "      <th>1</th>\n",
       "      <td>5621</td>\n",
       "      <td>Готовые сумочные изделия</td>\n",
       "    </tr>\n",
       "    <tr>\n",
       "      <th>2</th>\n",
       "      <td>5697</td>\n",
       "      <td>Услуги по переделке, починке и пошиву одежды</td>\n",
       "    </tr>\n",
       "    <tr>\n",
       "      <th>3</th>\n",
       "      <td>7995</td>\n",
       "      <td>Транзакции по азартным играм</td>\n",
       "    </tr>\n",
       "    <tr>\n",
       "      <th>4</th>\n",
       "      <td>5137</td>\n",
       "      <td>Мужская, женская и детская спец-одежда</td>\n",
       "    </tr>\n",
       "    <tr>\n",
       "      <th>...</th>\n",
       "      <td>...</td>\n",
       "      <td>...</td>\n",
       "    </tr>\n",
       "    <tr>\n",
       "      <th>179</th>\n",
       "      <td>5044</td>\n",
       "      <td>Офисное, фотографическое, фотокопировальное, и...</td>\n",
       "    </tr>\n",
       "    <tr>\n",
       "      <th>180</th>\n",
       "      <td>5983</td>\n",
       "      <td>Горючее топливо — уголь, нефть, разжиженный бе...</td>\n",
       "    </tr>\n",
       "    <tr>\n",
       "      <th>181</th>\n",
       "      <td>5994</td>\n",
       "      <td>Дилеры по продаже печатной продукции</td>\n",
       "    </tr>\n",
       "    <tr>\n",
       "      <th>182</th>\n",
       "      <td>5192</td>\n",
       "      <td>Книги, периодические издания и газеты</td>\n",
       "    </tr>\n",
       "    <tr>\n",
       "      <th>183</th>\n",
       "      <td>7922</td>\n",
       "      <td>Театральные продюсерские агентства</td>\n",
       "    </tr>\n",
       "  </tbody>\n",
       "</table>\n",
       "<p>184 rows × 2 columns</p>\n",
       "</div>"
      ],
      "text/plain": [
       "     code                                   code_description\n",
       "0    5944  Магазины по продаже часов, ювелирных изделий и...\n",
       "1    5621                           Готовые сумочные изделия\n",
       "2    5697       Услуги по переделке, починке и пошиву одежды\n",
       "3    7995                       Транзакции по азартным играм\n",
       "4    5137             Мужская, женская и детская спец-одежда\n",
       "..    ...                                                ...\n",
       "179  5044  Офисное, фотографическое, фотокопировальное, и...\n",
       "180  5983  Горючее топливо — уголь, нефть, разжиженный бе...\n",
       "181  5994               Дилеры по продаже печатной продукции\n",
       "182  5192              Книги, периодические издания и газеты\n",
       "183  7922                 Театральные продюсерские агентства\n",
       "\n",
       "[184 rows x 2 columns]"
      ]
     },
     "execution_count": 15,
     "metadata": {},
     "output_type": "execute_result"
    }
   ],
   "source": [
    "codes = pd.read_csv('codes.csv', sep = ';')\n",
    "codes"
   ]
  },
  {
   "cell_type": "code",
   "execution_count": 16,
   "metadata": {},
   "outputs": [
    {
     "name": "stdout",
     "output_type": "stream",
     "text": [
      "<class 'pandas.core.frame.DataFrame'>\n",
      "RangeIndex: 184 entries, 0 to 183\n",
      "Data columns (total 2 columns):\n",
      " #   Column            Non-Null Count  Dtype \n",
      "---  ------            --------------  ----- \n",
      " 0   code              184 non-null    int64 \n",
      " 1   code_description  184 non-null    object\n",
      "dtypes: int64(1), object(1)\n",
      "memory usage: 3.0+ KB\n"
     ]
    }
   ],
   "source": [
    "codes.info()"
   ]
  },
  {
   "cell_type": "code",
   "execution_count": 17,
   "metadata": {},
   "outputs": [
    {
     "data": {
      "text/html": [
       "<div>\n",
       "<style scoped>\n",
       "    .dataframe tbody tr th:only-of-type {\n",
       "        vertical-align: middle;\n",
       "    }\n",
       "\n",
       "    .dataframe tbody tr th {\n",
       "        vertical-align: top;\n",
       "    }\n",
       "\n",
       "    .dataframe thead th {\n",
       "        text-align: right;\n",
       "    }\n",
       "</style>\n",
       "<table border=\"1\" class=\"dataframe\">\n",
       "  <thead>\n",
       "    <tr style=\"text-align: right;\">\n",
       "      <th></th>\n",
       "      <th>code</th>\n",
       "      <th>code_description</th>\n",
       "    </tr>\n",
       "  </thead>\n",
       "  <tbody>\n",
       "    <tr>\n",
       "      <th>0</th>\n",
       "      <td>5944</td>\n",
       "      <td>Магазины по продаже часов, ювелирных изделий и...</td>\n",
       "    </tr>\n",
       "    <tr>\n",
       "      <th>1</th>\n",
       "      <td>5621</td>\n",
       "      <td>Готовые сумочные изделия</td>\n",
       "    </tr>\n",
       "    <tr>\n",
       "      <th>2</th>\n",
       "      <td>5697</td>\n",
       "      <td>Услуги по переделке, починке и пошиву одежды</td>\n",
       "    </tr>\n",
       "    <tr>\n",
       "      <th>3</th>\n",
       "      <td>7995</td>\n",
       "      <td>Транзакции по азартным играм</td>\n",
       "    </tr>\n",
       "    <tr>\n",
       "      <th>4</th>\n",
       "      <td>5137</td>\n",
       "      <td>Мужская, женская и детская спец-одежда</td>\n",
       "    </tr>\n",
       "    <tr>\n",
       "      <th>...</th>\n",
       "      <td>...</td>\n",
       "      <td>...</td>\n",
       "    </tr>\n",
       "    <tr>\n",
       "      <th>179</th>\n",
       "      <td>5044</td>\n",
       "      <td>Офисное, фотографическое, фотокопировальное, и...</td>\n",
       "    </tr>\n",
       "    <tr>\n",
       "      <th>180</th>\n",
       "      <td>5983</td>\n",
       "      <td>Горючее топливо — уголь, нефть, разжиженный бе...</td>\n",
       "    </tr>\n",
       "    <tr>\n",
       "      <th>181</th>\n",
       "      <td>5994</td>\n",
       "      <td>Дилеры по продаже печатной продукции</td>\n",
       "    </tr>\n",
       "    <tr>\n",
       "      <th>182</th>\n",
       "      <td>5192</td>\n",
       "      <td>Книги, периодические издания и газеты</td>\n",
       "    </tr>\n",
       "    <tr>\n",
       "      <th>183</th>\n",
       "      <td>7922</td>\n",
       "      <td>Театральные продюсерские агентства</td>\n",
       "    </tr>\n",
       "  </tbody>\n",
       "</table>\n",
       "<p>184 rows × 2 columns</p>\n",
       "</div>"
      ],
      "text/plain": [
       "     code                                   code_description\n",
       "0    5944  Магазины по продаже часов, ювелирных изделий и...\n",
       "1    5621                           Готовые сумочные изделия\n",
       "2    5697       Услуги по переделке, починке и пошиву одежды\n",
       "3    7995                       Транзакции по азартным играм\n",
       "4    5137             Мужская, женская и детская спец-одежда\n",
       "..    ...                                                ...\n",
       "179  5044  Офисное, фотографическое, фотокопировальное, и...\n",
       "180  5983  Горючее топливо — уголь, нефть, разжиженный бе...\n",
       "181  5994               Дилеры по продаже печатной продукции\n",
       "182  5192              Книги, периодические издания и газеты\n",
       "183  7922                 Театральные продюсерские агентства\n",
       "\n",
       "[184 rows x 2 columns]"
      ]
     },
     "execution_count": 17,
     "metadata": {},
     "output_type": "execute_result"
    }
   ],
   "source": [
    "codes"
   ]
  },
  {
   "cell_type": "code",
   "execution_count": 18,
   "metadata": {},
   "outputs": [
    {
     "data": {
      "text/plain": [
       "code                0\n",
       "code_description    0\n",
       "dtype: int64"
      ]
     },
     "execution_count": 18,
     "metadata": {},
     "output_type": "execute_result"
    }
   ],
   "source": [
    "codes.isnull().sum()"
   ]
  },
  {
   "cell_type": "code",
   "execution_count": 19,
   "metadata": {},
   "outputs": [
    {
     "data": {
      "text/html": [
       "<div>\n",
       "<style scoped>\n",
       "    .dataframe tbody tr th:only-of-type {\n",
       "        vertical-align: middle;\n",
       "    }\n",
       "\n",
       "    .dataframe tbody tr th {\n",
       "        vertical-align: top;\n",
       "    }\n",
       "\n",
       "    .dataframe thead th {\n",
       "        text-align: right;\n",
       "    }\n",
       "</style>\n",
       "<table border=\"1\" class=\"dataframe\">\n",
       "  <thead>\n",
       "    <tr style=\"text-align: right;\">\n",
       "      <th></th>\n",
       "      <th>code</th>\n",
       "    </tr>\n",
       "  </thead>\n",
       "  <tbody>\n",
       "    <tr>\n",
       "      <th>count</th>\n",
       "      <td>184.000000</td>\n",
       "    </tr>\n",
       "    <tr>\n",
       "      <th>mean</th>\n",
       "      <td>6046.793478</td>\n",
       "    </tr>\n",
       "    <tr>\n",
       "      <th>std</th>\n",
       "      <td>1470.328104</td>\n",
       "    </tr>\n",
       "    <tr>\n",
       "      <th>min</th>\n",
       "      <td>742.000000</td>\n",
       "    </tr>\n",
       "    <tr>\n",
       "      <th>25%</th>\n",
       "      <td>5208.250000</td>\n",
       "    </tr>\n",
       "    <tr>\n",
       "      <th>50%</th>\n",
       "      <td>5813.500000</td>\n",
       "    </tr>\n",
       "    <tr>\n",
       "      <th>75%</th>\n",
       "      <td>7283.000000</td>\n",
       "    </tr>\n",
       "    <tr>\n",
       "      <th>max</th>\n",
       "      <td>9402.000000</td>\n",
       "    </tr>\n",
       "  </tbody>\n",
       "</table>\n",
       "</div>"
      ],
      "text/plain": [
       "              code\n",
       "count   184.000000\n",
       "mean   6046.793478\n",
       "std    1470.328104\n",
       "min     742.000000\n",
       "25%    5208.250000\n",
       "50%    5813.500000\n",
       "75%    7283.000000\n",
       "max    9402.000000"
      ]
     },
     "execution_count": 19,
     "metadata": {},
     "output_type": "execute_result"
    }
   ],
   "source": [
    "codes.describe()"
   ]
  },
  {
   "cell_type": "code",
   "execution_count": 20,
   "metadata": {},
   "outputs": [
    {
     "data": {
      "text/plain": [
       "code    6046.793478\n",
       "dtype: float64"
      ]
     },
     "execution_count": 20,
     "metadata": {},
     "output_type": "execute_result"
    }
   ],
   "source": [
    "codes.mean()"
   ]
  },
  {
   "cell_type": "code",
   "execution_count": 21,
   "metadata": {},
   "outputs": [
    {
     "data": {
      "text/plain": [
       "(155, 2)"
      ]
     },
     "execution_count": 21,
     "metadata": {},
     "output_type": "execute_result"
    }
   ],
   "source": [
    "types = pd.read_csv('types.csv', delimiter = \";\")\n",
    "types.shape"
   ]
  },
  {
   "cell_type": "code",
   "execution_count": 22,
   "metadata": {},
   "outputs": [
    {
     "name": "stdout",
     "output_type": "stream",
     "text": [
      "<class 'pandas.core.frame.DataFrame'>\n",
      "RangeIndex: 155 entries, 0 to 154\n",
      "Data columns (total 2 columns):\n",
      " #   Column            Non-Null Count  Dtype \n",
      "---  ------            --------------  ----- \n",
      " 0   type              155 non-null    int64 \n",
      " 1   type_description  155 non-null    object\n",
      "dtypes: int64(1), object(1)\n",
      "memory usage: 2.5+ KB\n"
     ]
    }
   ],
   "source": [
    "types.info()"
   ]
  },
  {
   "cell_type": "code",
   "execution_count": 23,
   "metadata": {},
   "outputs": [
    {
     "data": {
      "text/html": [
       "<div>\n",
       "<style scoped>\n",
       "    .dataframe tbody tr th:only-of-type {\n",
       "        vertical-align: middle;\n",
       "    }\n",
       "\n",
       "    .dataframe tbody tr th {\n",
       "        vertical-align: top;\n",
       "    }\n",
       "\n",
       "    .dataframe thead th {\n",
       "        text-align: right;\n",
       "    }\n",
       "</style>\n",
       "<table border=\"1\" class=\"dataframe\">\n",
       "  <thead>\n",
       "    <tr style=\"text-align: right;\">\n",
       "      <th></th>\n",
       "      <th>type</th>\n",
       "      <th>type_description</th>\n",
       "    </tr>\n",
       "  </thead>\n",
       "  <tbody>\n",
       "    <tr>\n",
       "      <th>0</th>\n",
       "      <td>8001</td>\n",
       "      <td>Установление расх. лимита по карте</td>\n",
       "    </tr>\n",
       "    <tr>\n",
       "      <th>1</th>\n",
       "      <td>2411</td>\n",
       "      <td>Перевод с карты на счет др.лица в одном тер. б...</td>\n",
       "    </tr>\n",
       "    <tr>\n",
       "      <th>2</th>\n",
       "      <td>4035</td>\n",
       "      <td>н/д(нет данных)</td>\n",
       "    </tr>\n",
       "    <tr>\n",
       "      <th>3</th>\n",
       "      <td>3001</td>\n",
       "      <td>Комиссия за обслуживание ссудного счета</td>\n",
       "    </tr>\n",
       "    <tr>\n",
       "      <th>4</th>\n",
       "      <td>2420</td>\n",
       "      <td>Перевод с карты на счет физ.лица в другом тер....</td>\n",
       "    </tr>\n",
       "    <tr>\n",
       "      <th>...</th>\n",
       "      <td>...</td>\n",
       "      <td>...</td>\n",
       "    </tr>\n",
       "    <tr>\n",
       "      <th>150</th>\n",
       "      <td>4110</td>\n",
       "      <td>Плата за получение наличных в АТМ.</td>\n",
       "    </tr>\n",
       "    <tr>\n",
       "      <th>151</th>\n",
       "      <td>2320</td>\n",
       "      <td>Безналичный перевод денежных средств через POS</td>\n",
       "    </tr>\n",
       "    <tr>\n",
       "      <th>152</th>\n",
       "      <td>7040</td>\n",
       "      <td>Перевод на карту (с карты) через POS (в предел...</td>\n",
       "    </tr>\n",
       "    <tr>\n",
       "      <th>153</th>\n",
       "      <td>2433</td>\n",
       "      <td>Перевод с карты на счет физ.лица в другом банк...</td>\n",
       "    </tr>\n",
       "    <tr>\n",
       "      <th>154</th>\n",
       "      <td>2431</td>\n",
       "      <td>Перевод с карты на счет физ.лица в другом банк...</td>\n",
       "    </tr>\n",
       "  </tbody>\n",
       "</table>\n",
       "<p>155 rows × 2 columns</p>\n",
       "</div>"
      ],
      "text/plain": [
       "     type                                   type_description\n",
       "0    8001                 Установление расх. лимита по карте\n",
       "1    2411  Перевод с карты на счет др.лица в одном тер. б...\n",
       "2    4035                                    н/д(нет данных)\n",
       "3    3001            Комиссия за обслуживание ссудного счета\n",
       "4    2420  Перевод с карты на счет физ.лица в другом тер....\n",
       "..    ...                                                ...\n",
       "150  4110                 Плата за получение наличных в АТМ.\n",
       "151  2320     Безналичный перевод денежных средств через POS\n",
       "152  7040  Перевод на карту (с карты) через POS (в предел...\n",
       "153  2433  Перевод с карты на счет физ.лица в другом банк...\n",
       "154  2431  Перевод с карты на счет физ.лица в другом банк...\n",
       "\n",
       "[155 rows x 2 columns]"
      ]
     },
     "execution_count": 23,
     "metadata": {},
     "output_type": "execute_result"
    }
   ],
   "source": [
    "types"
   ]
  },
  {
   "cell_type": "code",
   "execution_count": 24,
   "metadata": {},
   "outputs": [
    {
     "data": {
      "text/plain": [
       "type                0\n",
       "type_description    0\n",
       "dtype: int64"
      ]
     },
     "execution_count": 24,
     "metadata": {},
     "output_type": "execute_result"
    }
   ],
   "source": [
    "types.isnull().sum()"
   ]
  },
  {
   "cell_type": "code",
   "execution_count": 25,
   "metadata": {},
   "outputs": [
    {
     "data": {
      "text/html": [
       "<div>\n",
       "<style scoped>\n",
       "    .dataframe tbody tr th:only-of-type {\n",
       "        vertical-align: middle;\n",
       "    }\n",
       "\n",
       "    .dataframe tbody tr th {\n",
       "        vertical-align: top;\n",
       "    }\n",
       "\n",
       "    .dataframe thead th {\n",
       "        text-align: right;\n",
       "    }\n",
       "</style>\n",
       "<table border=\"1\" class=\"dataframe\">\n",
       "  <thead>\n",
       "    <tr style=\"text-align: right;\">\n",
       "      <th></th>\n",
       "      <th>type</th>\n",
       "    </tr>\n",
       "  </thead>\n",
       "  <tbody>\n",
       "    <tr>\n",
       "      <th>count</th>\n",
       "      <td>155.000000</td>\n",
       "    </tr>\n",
       "    <tr>\n",
       "      <th>mean</th>\n",
       "      <td>10819.045161</td>\n",
       "    </tr>\n",
       "    <tr>\n",
       "      <th>std</th>\n",
       "      <td>80000.258847</td>\n",
       "    </tr>\n",
       "    <tr>\n",
       "      <th>min</th>\n",
       "      <td>1000.000000</td>\n",
       "    </tr>\n",
       "    <tr>\n",
       "      <th>25%</th>\n",
       "      <td>2385.500000</td>\n",
       "    </tr>\n",
       "    <tr>\n",
       "      <th>50%</th>\n",
       "      <td>4040.000000</td>\n",
       "    </tr>\n",
       "    <tr>\n",
       "      <th>75%</th>\n",
       "      <td>7027.500000</td>\n",
       "    </tr>\n",
       "    <tr>\n",
       "      <th>max</th>\n",
       "      <td>999999.000000</td>\n",
       "    </tr>\n",
       "  </tbody>\n",
       "</table>\n",
       "</div>"
      ],
      "text/plain": [
       "                type\n",
       "count     155.000000\n",
       "mean    10819.045161\n",
       "std     80000.258847\n",
       "min      1000.000000\n",
       "25%      2385.500000\n",
       "50%      4040.000000\n",
       "75%      7027.500000\n",
       "max    999999.000000"
      ]
     },
     "execution_count": 25,
     "metadata": {},
     "output_type": "execute_result"
    }
   ],
   "source": [
    "types.describe()"
   ]
  },
  {
   "cell_type": "code",
   "execution_count": 26,
   "metadata": {},
   "outputs": [
    {
     "data": {
      "text/html": [
       "<div>\n",
       "<style scoped>\n",
       "    .dataframe tbody tr th:only-of-type {\n",
       "        vertical-align: middle;\n",
       "    }\n",
       "\n",
       "    .dataframe tbody tr th {\n",
       "        vertical-align: top;\n",
       "    }\n",
       "\n",
       "    .dataframe thead th {\n",
       "        text-align: right;\n",
       "    }\n",
       "</style>\n",
       "<table border=\"1\" class=\"dataframe\">\n",
       "  <thead>\n",
       "    <tr style=\"text-align: right;\">\n",
       "      <th></th>\n",
       "      <th>client_id</th>\n",
       "      <th>code</th>\n",
       "      <th>type</th>\n",
       "      <th>sum</th>\n",
       "    </tr>\n",
       "  </thead>\n",
       "  <tbody>\n",
       "    <tr>\n",
       "      <th>0</th>\n",
       "      <td>70780820</td>\n",
       "      <td>6011</td>\n",
       "      <td>1010</td>\n",
       "      <td>-2245.92</td>\n",
       "    </tr>\n",
       "  </tbody>\n",
       "</table>\n",
       "</div>"
      ],
      "text/plain": [
       "   client_id  code  type      sum\n",
       "0   70780820  6011  1010 -2245.92"
      ]
     },
     "execution_count": 26,
     "metadata": {},
     "output_type": "execute_result"
    }
   ],
   "source": [
    "transactions.mode(axis='rows', numeric_only=True)"
   ]
  },
  {
   "cell_type": "markdown",
   "metadata": {},
   "source": [
    "\n",
    "# What is the Mean Expense of a Household"
   ]
  },
  {
   "cell_type": "code",
   "execution_count": 27,
   "metadata": {},
   "outputs": [
    {
     "data": {
      "text/plain": [
       "-18129.09389314057"
      ]
     },
     "execution_count": 27,
     "metadata": {},
     "output_type": "execute_result"
    }
   ],
   "source": [
    "transactions[\"sum\"].mean()"
   ]
  },
  {
   "cell_type": "markdown",
   "metadata": {},
   "source": [
    "# What is the Median Household Expense?"
   ]
  },
  {
   "cell_type": "code",
   "execution_count": 28,
   "metadata": {},
   "outputs": [
    {
     "data": {
      "text/plain": [
       "-5502.49"
      ]
     },
     "execution_count": 28,
     "metadata": {},
     "output_type": "execute_result"
    }
   ],
   "source": [
    "transactions[\"sum\"].median()"
   ]
  },
  {
   "cell_type": "markdown",
   "metadata": {},
   "source": [
    "# Calculate Standard Deviation for first 4 columns.¶\n"
   ]
  },
  {
   "cell_type": "code",
   "execution_count": 29,
   "metadata": {},
   "outputs": [
    {
     "data": {
      "text/html": [
       "<div>\n",
       "<style scoped>\n",
       "    .dataframe tbody tr th:only-of-type {\n",
       "        vertical-align: middle;\n",
       "    }\n",
       "\n",
       "    .dataframe tbody tr th {\n",
       "        vertical-align: top;\n",
       "    }\n",
       "\n",
       "    .dataframe thead th {\n",
       "        text-align: right;\n",
       "    }\n",
       "</style>\n",
       "<table border=\"1\" class=\"dataframe\">\n",
       "  <thead>\n",
       "    <tr style=\"text-align: right;\">\n",
       "      <th></th>\n",
       "      <th>0</th>\n",
       "    </tr>\n",
       "  </thead>\n",
       "  <tbody>\n",
       "    <tr>\n",
       "      <th>client_id</th>\n",
       "      <td>2.872854e+07</td>\n",
       "    </tr>\n",
       "    <tr>\n",
       "      <th>code</th>\n",
       "      <td>6.060871e+02</td>\n",
       "    </tr>\n",
       "    <tr>\n",
       "      <th>type</th>\n",
       "      <td>2.253297e+03</td>\n",
       "    </tr>\n",
       "    <tr>\n",
       "      <th>sum</th>\n",
       "      <td>5.584445e+05</td>\n",
       "    </tr>\n",
       "  </tbody>\n",
       "</table>\n",
       "</div>"
      ],
      "text/plain": [
       "                      0\n",
       "client_id  2.872854e+07\n",
       "code       6.060871e+02\n",
       "type       2.253297e+03\n",
       "sum        5.584445e+05"
      ]
     },
     "execution_count": 29,
     "metadata": {},
     "output_type": "execute_result"
    }
   ],
   "source": [
    "pd.DataFrame(transactions.iloc[:,0:5].std().to_frame())\n"
   ]
  },
  {
   "cell_type": "markdown",
   "metadata": {},
   "source": [
    "\n",
    "\n",
    "# Calculate Variance for last SUM column.¶\n"
   ]
  },
  {
   "cell_type": "code",
   "execution_count": 30,
   "metadata": {},
   "outputs": [
    {
     "data": {
      "text/html": [
       "<div>\n",
       "<style scoped>\n",
       "    .dataframe tbody tr th:only-of-type {\n",
       "        vertical-align: middle;\n",
       "    }\n",
       "\n",
       "    .dataframe tbody tr th {\n",
       "        vertical-align: top;\n",
       "    }\n",
       "\n",
       "    .dataframe thead th {\n",
       "        text-align: right;\n",
       "    }\n",
       "</style>\n",
       "<table border=\"1\" class=\"dataframe\">\n",
       "  <thead>\n",
       "    <tr style=\"text-align: right;\">\n",
       "      <th></th>\n",
       "      <th>sum</th>\n",
       "    </tr>\n",
       "  </thead>\n",
       "  <tbody>\n",
       "    <tr>\n",
       "      <th>0</th>\n",
       "      <td>3.118603e+11</td>\n",
       "    </tr>\n",
       "  </tbody>\n",
       "</table>\n",
       "</div>"
      ],
      "text/plain": [
       "            sum\n",
       "0  3.118603e+11"
      ]
     },
     "execution_count": 30,
     "metadata": {},
     "output_type": "execute_result"
    }
   ],
   "source": [
    "pd.DataFrame(transactions.iloc[:,4:5].var().to_frame()).T"
   ]
  },
  {
   "cell_type": "markdown",
   "metadata": {},
   "source": [
    "# Plot the Histogram to count the TYPE in TRANSACTIONS¶\n"
   ]
  },
  {
   "cell_type": "code",
   "execution_count": 31,
   "metadata": {},
   "outputs": [
    {
     "data": {
      "text/plain": [
       "<AxesSubplot:>"
      ]
     },
     "execution_count": 31,
     "metadata": {},
     "output_type": "execute_result"
    },
    {
     "data": {
      "image/png": "[encoded data removed]",
      "text/plain": [
       "<Figure size 864x576 with 1 Axes>"
      ]
     },
     "metadata": {
      "needs_background": "light"
     },
     "output_type": "display_data"
    }
   ],
   "source": [
    "transactions[\"type\"].value_counts().plot(kind=\"bar\", figsize=(12,8))"
   ]
  },
  {
   "cell_type": "code",
   "execution_count": 32,
   "metadata": {},
   "outputs": [
    {
     "data": {
      "text/html": [
       "<div>\n",
       "<style scoped>\n",
       "    .dataframe tbody tr th:only-of-type {\n",
       "        vertical-align: middle;\n",
       "    }\n",
       "\n",
       "    .dataframe tbody tr th {\n",
       "        vertical-align: top;\n",
       "    }\n",
       "\n",
       "    .dataframe thead th {\n",
       "        text-align: right;\n",
       "    }\n",
       "</style>\n",
       "<table border=\"1\" class=\"dataframe\">\n",
       "  <thead>\n",
       "    <tr style=\"text-align: right;\">\n",
       "      <th></th>\n",
       "      <th>client_id</th>\n",
       "      <th>datetime</th>\n",
       "      <th>code</th>\n",
       "      <th>type</th>\n",
       "      <th>sum</th>\n",
       "      <th>code_description</th>\n",
       "    </tr>\n",
       "  </thead>\n",
       "  <tbody>\n",
       "    <tr>\n",
       "      <th>0</th>\n",
       "      <td>96372458</td>\n",
       "      <td>421 06:33:15</td>\n",
       "      <td>6011</td>\n",
       "      <td>2010</td>\n",
       "      <td>-561478.94</td>\n",
       "      <td>Финансовые институты — снятие наличности автом...</td>\n",
       "    </tr>\n",
       "    <tr>\n",
       "      <th>1</th>\n",
       "      <td>24567813</td>\n",
       "      <td>377 17:20:40</td>\n",
       "      <td>6011</td>\n",
       "      <td>7010</td>\n",
       "      <td>67377.47</td>\n",
       "      <td>Финансовые институты — снятие наличности автом...</td>\n",
       "    </tr>\n",
       "    <tr>\n",
       "      <th>2</th>\n",
       "      <td>21717441</td>\n",
       "      <td>55 13:38:47</td>\n",
       "      <td>6011</td>\n",
       "      <td>2010</td>\n",
       "      <td>-44918.32</td>\n",
       "      <td>Финансовые институты — снятие наличности автом...</td>\n",
       "    </tr>\n",
       "    <tr>\n",
       "      <th>3</th>\n",
       "      <td>14331004</td>\n",
       "      <td>263 12:57:08</td>\n",
       "      <td>6011</td>\n",
       "      <td>2010</td>\n",
       "      <td>-3368873.66</td>\n",
       "      <td>Финансовые институты — снятие наличности автом...</td>\n",
       "    </tr>\n",
       "    <tr>\n",
       "      <th>4</th>\n",
       "      <td>85302434</td>\n",
       "      <td>151 10:34:12</td>\n",
       "      <td>4814</td>\n",
       "      <td>1030</td>\n",
       "      <td>-3368.87</td>\n",
       "      <td>Звонки с использованием телефонов, считывающих...</td>\n",
       "    </tr>\n",
       "    <tr>\n",
       "      <th>...</th>\n",
       "      <td>...</td>\n",
       "      <td>...</td>\n",
       "      <td>...</td>\n",
       "      <td>...</td>\n",
       "      <td>...</td>\n",
       "      <td>...</td>\n",
       "    </tr>\n",
       "    <tr>\n",
       "      <th>130034</th>\n",
       "      <td>15836839</td>\n",
       "      <td>147 11:50:53</td>\n",
       "      <td>5411</td>\n",
       "      <td>1010</td>\n",
       "      <td>-26344.59</td>\n",
       "      <td>Бакалейные магазины, супермаркеты</td>\n",
       "    </tr>\n",
       "    <tr>\n",
       "      <th>130035</th>\n",
       "      <td>28369355</td>\n",
       "      <td>305 11:59:34</td>\n",
       "      <td>4829</td>\n",
       "      <td>2330</td>\n",
       "      <td>-24705.07</td>\n",
       "      <td>Денежные переводы</td>\n",
       "    </tr>\n",
       "    <tr>\n",
       "      <th>130036</th>\n",
       "      <td>40949707</td>\n",
       "      <td>398 21:13:58</td>\n",
       "      <td>5411</td>\n",
       "      <td>1110</td>\n",
       "      <td>-40353.72</td>\n",
       "      <td>Бакалейные магазины, супермаркеты</td>\n",
       "    </tr>\n",
       "    <tr>\n",
       "      <th>130037</th>\n",
       "      <td>7174462</td>\n",
       "      <td>409 13:58:14</td>\n",
       "      <td>5411</td>\n",
       "      <td>1010</td>\n",
       "      <td>-25536.06</td>\n",
       "      <td>Бакалейные магазины, супермаркеты</td>\n",
       "    </tr>\n",
       "    <tr>\n",
       "      <th>130038</th>\n",
       "      <td>92197764</td>\n",
       "      <td>319 00:00:00</td>\n",
       "      <td>5533</td>\n",
       "      <td>1110</td>\n",
       "      <td>-12127.95</td>\n",
       "      <td>Автозапчасти и аксессуары</td>\n",
       "    </tr>\n",
       "  </tbody>\n",
       "</table>\n",
       "<p>130039 rows × 6 columns</p>\n",
       "</div>"
      ],
      "text/plain": [
       "        client_id      datetime  code  type         sum  \\\n",
       "0        96372458  421 06:33:15  6011  2010  -561478.94   \n",
       "1        24567813  377 17:20:40  6011  7010    67377.47   \n",
       "2        21717441   55 13:38:47  6011  2010   -44918.32   \n",
       "3        14331004  263 12:57:08  6011  2010 -3368873.66   \n",
       "4        85302434  151 10:34:12  4814  1030    -3368.87   \n",
       "...           ...           ...   ...   ...         ...   \n",
       "130034   15836839  147 11:50:53  5411  1010   -26344.59   \n",
       "130035   28369355  305 11:59:34  4829  2330   -24705.07   \n",
       "130036   40949707  398 21:13:58  5411  1110   -40353.72   \n",
       "130037    7174462  409 13:58:14  5411  1010   -25536.06   \n",
       "130038   92197764  319 00:00:00  5533  1110   -12127.95   \n",
       "\n",
       "                                         code_description  \n",
       "0       Финансовые институты — снятие наличности автом...  \n",
       "1       Финансовые институты — снятие наличности автом...  \n",
       "2       Финансовые институты — снятие наличности автом...  \n",
       "3       Финансовые институты — снятие наличности автом...  \n",
       "4       Звонки с использованием телефонов, считывающих...  \n",
       "...                                                   ...  \n",
       "130034                  Бакалейные магазины, супермаркеты  \n",
       "130035                                  Денежные переводы  \n",
       "130036                  Бакалейные магазины, супермаркеты  \n",
       "130037                  Бакалейные магазины, супермаркеты  \n",
       "130038                          Автозапчасти и аксессуары  \n",
       "\n",
       "[130039 rows x 6 columns]"
      ]
     },
     "execution_count": 32,
     "metadata": {},
     "output_type": "execute_result"
    }
   ],
   "source": [
    "merged_table = transactions.merge(codes,on='code',how='left')\n",
    "merged_table"
   ]
  },
  {
   "cell_type": "code",
   "execution_count": 33,
   "metadata": {},
   "outputs": [
    {
     "data": {
      "text/html": [
       "<div>\n",
       "<style scoped>\n",
       "    .dataframe tbody tr th:only-of-type {\n",
       "        vertical-align: middle;\n",
       "    }\n",
       "\n",
       "    .dataframe tbody tr th {\n",
       "        vertical-align: top;\n",
       "    }\n",
       "\n",
       "    .dataframe thead th {\n",
       "        text-align: right;\n",
       "    }\n",
       "</style>\n",
       "<table border=\"1\" class=\"dataframe\">\n",
       "  <thead>\n",
       "    <tr style=\"text-align: right;\">\n",
       "      <th></th>\n",
       "      <th>client_id</th>\n",
       "      <th>datetime</th>\n",
       "      <th>code</th>\n",
       "      <th>type</th>\n",
       "      <th>sum</th>\n",
       "      <th>code_description</th>\n",
       "      <th>type_description</th>\n",
       "    </tr>\n",
       "  </thead>\n",
       "  <tbody>\n",
       "    <tr>\n",
       "      <th>0</th>\n",
       "      <td>96372458</td>\n",
       "      <td>421 06:33:15</td>\n",
       "      <td>6011</td>\n",
       "      <td>2010</td>\n",
       "      <td>-561478.94</td>\n",
       "      <td>Финансовые институты — снятие наличности автом...</td>\n",
       "      <td>Выдача наличных в АТМ</td>\n",
       "    </tr>\n",
       "    <tr>\n",
       "      <th>1</th>\n",
       "      <td>24567813</td>\n",
       "      <td>377 17:20:40</td>\n",
       "      <td>6011</td>\n",
       "      <td>7010</td>\n",
       "      <td>67377.47</td>\n",
       "      <td>Финансовые институты — снятие наличности автом...</td>\n",
       "      <td>Взнос наличных через АТМ (в своем тер.банке)</td>\n",
       "    </tr>\n",
       "    <tr>\n",
       "      <th>2</th>\n",
       "      <td>21717441</td>\n",
       "      <td>55 13:38:47</td>\n",
       "      <td>6011</td>\n",
       "      <td>2010</td>\n",
       "      <td>-44918.32</td>\n",
       "      <td>Финансовые институты — снятие наличности автом...</td>\n",
       "      <td>Выдача наличных в АТМ</td>\n",
       "    </tr>\n",
       "    <tr>\n",
       "      <th>3</th>\n",
       "      <td>14331004</td>\n",
       "      <td>263 12:57:08</td>\n",
       "      <td>6011</td>\n",
       "      <td>2010</td>\n",
       "      <td>-3368873.66</td>\n",
       "      <td>Финансовые институты — снятие наличности автом...</td>\n",
       "      <td>Выдача наличных в АТМ</td>\n",
       "    </tr>\n",
       "    <tr>\n",
       "      <th>4</th>\n",
       "      <td>85302434</td>\n",
       "      <td>151 10:34:12</td>\n",
       "      <td>4814</td>\n",
       "      <td>1030</td>\n",
       "      <td>-3368.87</td>\n",
       "      <td>Звонки с использованием телефонов, считывающих...</td>\n",
       "      <td>Оплата услуги. Банкоматы</td>\n",
       "    </tr>\n",
       "    <tr>\n",
       "      <th>...</th>\n",
       "      <td>...</td>\n",
       "      <td>...</td>\n",
       "      <td>...</td>\n",
       "      <td>...</td>\n",
       "      <td>...</td>\n",
       "      <td>...</td>\n",
       "      <td>...</td>\n",
       "    </tr>\n",
       "    <tr>\n",
       "      <th>130034</th>\n",
       "      <td>15836839</td>\n",
       "      <td>147 11:50:53</td>\n",
       "      <td>5411</td>\n",
       "      <td>1010</td>\n",
       "      <td>-26344.59</td>\n",
       "      <td>Бакалейные магазины, супермаркеты</td>\n",
       "      <td>Покупка. POS</td>\n",
       "    </tr>\n",
       "    <tr>\n",
       "      <th>130035</th>\n",
       "      <td>28369355</td>\n",
       "      <td>305 11:59:34</td>\n",
       "      <td>4829</td>\n",
       "      <td>2330</td>\n",
       "      <td>-24705.07</td>\n",
       "      <td>Денежные переводы</td>\n",
       "      <td>Списание с карты по операции “перевода с карты...</td>\n",
       "    </tr>\n",
       "    <tr>\n",
       "      <th>130036</th>\n",
       "      <td>40949707</td>\n",
       "      <td>398 21:13:58</td>\n",
       "      <td>5411</td>\n",
       "      <td>1110</td>\n",
       "      <td>-40353.72</td>\n",
       "      <td>Бакалейные магазины, супермаркеты</td>\n",
       "      <td>Покупка. POS</td>\n",
       "    </tr>\n",
       "    <tr>\n",
       "      <th>130037</th>\n",
       "      <td>7174462</td>\n",
       "      <td>409 13:58:14</td>\n",
       "      <td>5411</td>\n",
       "      <td>1010</td>\n",
       "      <td>-25536.06</td>\n",
       "      <td>Бакалейные магазины, супермаркеты</td>\n",
       "      <td>Покупка. POS</td>\n",
       "    </tr>\n",
       "    <tr>\n",
       "      <th>130038</th>\n",
       "      <td>92197764</td>\n",
       "      <td>319 00:00:00</td>\n",
       "      <td>5533</td>\n",
       "      <td>1110</td>\n",
       "      <td>-12127.95</td>\n",
       "      <td>Автозапчасти и аксессуары</td>\n",
       "      <td>Покупка. POS</td>\n",
       "    </tr>\n",
       "  </tbody>\n",
       "</table>\n",
       "<p>130039 rows × 7 columns</p>\n",
       "</div>"
      ],
      "text/plain": [
       "        client_id      datetime  code  type         sum  \\\n",
       "0        96372458  421 06:33:15  6011  2010  -561478.94   \n",
       "1        24567813  377 17:20:40  6011  7010    67377.47   \n",
       "2        21717441   55 13:38:47  6011  2010   -44918.32   \n",
       "3        14331004  263 12:57:08  6011  2010 -3368873.66   \n",
       "4        85302434  151 10:34:12  4814  1030    -3368.87   \n",
       "...           ...           ...   ...   ...         ...   \n",
       "130034   15836839  147 11:50:53  5411  1010   -26344.59   \n",
       "130035   28369355  305 11:59:34  4829  2330   -24705.07   \n",
       "130036   40949707  398 21:13:58  5411  1110   -40353.72   \n",
       "130037    7174462  409 13:58:14  5411  1010   -25536.06   \n",
       "130038   92197764  319 00:00:00  5533  1110   -12127.95   \n",
       "\n",
       "                                         code_description  \\\n",
       "0       Финансовые институты — снятие наличности автом...   \n",
       "1       Финансовые институты — снятие наличности автом...   \n",
       "2       Финансовые институты — снятие наличности автом...   \n",
       "3       Финансовые институты — снятие наличности автом...   \n",
       "4       Звонки с использованием телефонов, считывающих...   \n",
       "...                                                   ...   \n",
       "130034                  Бакалейные магазины, супермаркеты   \n",
       "130035                                  Денежные переводы   \n",
       "130036                  Бакалейные магазины, супермаркеты   \n",
       "130037                  Бакалейные магазины, супермаркеты   \n",
       "130038                          Автозапчасти и аксессуары   \n",
       "\n",
       "                                         type_description  \n",
       "0                                   Выдача наличных в АТМ  \n",
       "1            Взнос наличных через АТМ (в своем тер.банке)  \n",
       "2                                   Выдача наличных в АТМ  \n",
       "3                                   Выдача наличных в АТМ  \n",
       "4                                Оплата услуги. Банкоматы  \n",
       "...                                                   ...  \n",
       "130034                                      Покупка. POS   \n",
       "130035  Списание с карты по операции “перевода с карты...  \n",
       "130036                                      Покупка. POS   \n",
       "130037                                      Покупка. POS   \n",
       "130038                                      Покупка. POS   \n",
       "\n",
       "[130039 rows x 7 columns]"
      ]
     },
     "execution_count": 33,
     "metadata": {},
     "output_type": "execute_result"
    }
   ],
   "source": [
    "merged_table = merged_table.merge(types,on='type',how='left')\n",
    "merged_table"
   ]
  },
  {
   "cell_type": "code",
   "execution_count": 34,
   "metadata": {},
   "outputs": [
    {
     "data": {
      "text/html": [
       "<div>\n",
       "<style scoped>\n",
       "    .dataframe tbody tr th:only-of-type {\n",
       "        vertical-align: middle;\n",
       "    }\n",
       "\n",
       "    .dataframe tbody tr th {\n",
       "        vertical-align: top;\n",
       "    }\n",
       "\n",
       "    .dataframe thead th {\n",
       "        text-align: right;\n",
       "    }\n",
       "</style>\n",
       "<table border=\"1\" class=\"dataframe\">\n",
       "  <thead>\n",
       "    <tr style=\"text-align: right;\">\n",
       "      <th></th>\n",
       "      <th>count</th>\n",
       "      <th>mean</th>\n",
       "      <th>std</th>\n",
       "      <th>min</th>\n",
       "      <th>25%</th>\n",
       "      <th>50%</th>\n",
       "      <th>75%</th>\n",
       "      <th>max</th>\n",
       "    </tr>\n",
       "  </thead>\n",
       "  <tbody>\n",
       "    <tr>\n",
       "      <th>client_id</th>\n",
       "      <td>130039.0</td>\n",
       "      <td>5.086859e+07</td>\n",
       "      <td>2.872854e+07</td>\n",
       "      <td>22899.00</td>\n",
       "      <td>25771743.00</td>\n",
       "      <td>52358368.00</td>\n",
       "      <td>75063019.00</td>\n",
       "      <td>99999680.00</td>\n",
       "    </tr>\n",
       "    <tr>\n",
       "      <th>code</th>\n",
       "      <td>130039.0</td>\n",
       "      <td>5.594630e+03</td>\n",
       "      <td>6.060871e+02</td>\n",
       "      <td>742.00</td>\n",
       "      <td>5211.00</td>\n",
       "      <td>5641.00</td>\n",
       "      <td>6010.00</td>\n",
       "      <td>9402.00</td>\n",
       "    </tr>\n",
       "    <tr>\n",
       "      <th>type</th>\n",
       "      <td>130039.0</td>\n",
       "      <td>2.489372e+03</td>\n",
       "      <td>2.253297e+03</td>\n",
       "      <td>1000.00</td>\n",
       "      <td>1030.00</td>\n",
       "      <td>1110.00</td>\n",
       "      <td>2370.00</td>\n",
       "      <td>8145.00</td>\n",
       "    </tr>\n",
       "    <tr>\n",
       "      <th>sum</th>\n",
       "      <td>130039.0</td>\n",
       "      <td>-1.812909e+04</td>\n",
       "      <td>5.584445e+05</td>\n",
       "      <td>-41500301.14</td>\n",
       "      <td>-22449.16</td>\n",
       "      <td>-5502.49</td>\n",
       "      <td>-1122.96</td>\n",
       "      <td>67377473.16</td>\n",
       "    </tr>\n",
       "  </tbody>\n",
       "</table>\n",
       "</div>"
      ],
      "text/plain": [
       "              count          mean           std          min          25%  \\\n",
       "client_id  130039.0  5.086859e+07  2.872854e+07     22899.00  25771743.00   \n",
       "code       130039.0  5.594630e+03  6.060871e+02       742.00      5211.00   \n",
       "type       130039.0  2.489372e+03  2.253297e+03      1000.00      1030.00   \n",
       "sum        130039.0 -1.812909e+04  5.584445e+05 -41500301.14    -22449.16   \n",
       "\n",
       "                   50%          75%          max  \n",
       "client_id  52358368.00  75063019.00  99999680.00  \n",
       "code           5641.00      6010.00      9402.00  \n",
       "type           1110.00      2370.00      8145.00  \n",
       "sum           -5502.49     -1122.96  67377473.16  "
      ]
     },
     "execution_count": 34,
     "metadata": {},
     "output_type": "execute_result"
    }
   ],
   "source": [
    "merged_table.describe().T"
   ]
  },
  {
   "cell_type": "code",
   "execution_count": 35,
   "metadata": {},
   "outputs": [
    {
     "data": {
      "text/plain": [
       "client_id           False\n",
       "datetime            False\n",
       "code                False\n",
       "type                False\n",
       "sum                 False\n",
       "code_description    False\n",
       "type_description     True\n",
       "dtype: bool"
      ]
     },
     "execution_count": 35,
     "metadata": {},
     "output_type": "execute_result"
    }
   ],
   "source": [
    "merged_table.isna().any()"
   ]
  },
  {
   "cell_type": "code",
   "execution_count": 36,
   "metadata": {},
   "outputs": [
    {
     "data": {
      "text/html": [
       "<div>\n",
       "<style scoped>\n",
       "    .dataframe tbody tr th:only-of-type {\n",
       "        vertical-align: middle;\n",
       "    }\n",
       "\n",
       "    .dataframe tbody tr th {\n",
       "        vertical-align: top;\n",
       "    }\n",
       "\n",
       "    .dataframe thead th {\n",
       "        text-align: right;\n",
       "    }\n",
       "</style>\n",
       "<table border=\"1\" class=\"dataframe\">\n",
       "  <thead>\n",
       "    <tr style=\"text-align: right;\">\n",
       "      <th></th>\n",
       "      <th>client_id</th>\n",
       "      <th>datetime</th>\n",
       "      <th>code</th>\n",
       "      <th>type</th>\n",
       "      <th>sum</th>\n",
       "      <th>code_description</th>\n",
       "      <th>type_description</th>\n",
       "    </tr>\n",
       "  </thead>\n",
       "  <tbody>\n",
       "    <tr>\n",
       "      <th>5379</th>\n",
       "      <td>44676756</td>\n",
       "      <td>335 10:39:55</td>\n",
       "      <td>6012</td>\n",
       "      <td>2456</td>\n",
       "      <td>-202132.42</td>\n",
       "      <td>Финансовые институты — торговля и услуги</td>\n",
       "      <td>NaN</td>\n",
       "    </tr>\n",
       "    <tr>\n",
       "      <th>7169</th>\n",
       "      <td>50988636</td>\n",
       "      <td>446 00:00:00</td>\n",
       "      <td>6012</td>\n",
       "      <td>2460</td>\n",
       "      <td>-359346.52</td>\n",
       "      <td>Финансовые институты — торговля и услуги</td>\n",
       "      <td>NaN</td>\n",
       "    </tr>\n",
       "    <tr>\n",
       "      <th>12546</th>\n",
       "      <td>97376938</td>\n",
       "      <td>389 15:44:04</td>\n",
       "      <td>6012</td>\n",
       "      <td>2456</td>\n",
       "      <td>-121369.29</td>\n",
       "      <td>Финансовые институты — торговля и услуги</td>\n",
       "      <td>NaN</td>\n",
       "    </tr>\n",
       "    <tr>\n",
       "      <th>13062</th>\n",
       "      <td>78085289</td>\n",
       "      <td>396 10:13:25</td>\n",
       "      <td>6012</td>\n",
       "      <td>4097</td>\n",
       "      <td>-3368.87</td>\n",
       "      <td>Финансовые институты — торговля и услуги</td>\n",
       "      <td>NaN</td>\n",
       "    </tr>\n",
       "    <tr>\n",
       "      <th>16212</th>\n",
       "      <td>97000670</td>\n",
       "      <td>409 12:27:01</td>\n",
       "      <td>6012</td>\n",
       "      <td>4097</td>\n",
       "      <td>-3368.87</td>\n",
       "      <td>Финансовые институты — торговля и услуги</td>\n",
       "      <td>NaN</td>\n",
       "    </tr>\n",
       "    <tr>\n",
       "      <th>17153</th>\n",
       "      <td>36100475</td>\n",
       "      <td>343 00:00:00</td>\n",
       "      <td>6012</td>\n",
       "      <td>2460</td>\n",
       "      <td>-673774.73</td>\n",
       "      <td>Финансовые институты — торговля и услуги</td>\n",
       "      <td>NaN</td>\n",
       "    </tr>\n",
       "    <tr>\n",
       "      <th>21375</th>\n",
       "      <td>3568140</td>\n",
       "      <td>426 10:38:01</td>\n",
       "      <td>6012</td>\n",
       "      <td>2456</td>\n",
       "      <td>-24705.07</td>\n",
       "      <td>Финансовые институты — торговля и услуги</td>\n",
       "      <td>NaN</td>\n",
       "    </tr>\n",
       "    <tr>\n",
       "      <th>22038</th>\n",
       "      <td>60340891</td>\n",
       "      <td>444 21:24:56</td>\n",
       "      <td>6012</td>\n",
       "      <td>4097</td>\n",
       "      <td>-673.77</td>\n",
       "      <td>Финансовые институты — торговля и услуги</td>\n",
       "      <td>NaN</td>\n",
       "    </tr>\n",
       "    <tr>\n",
       "      <th>24801</th>\n",
       "      <td>60293458</td>\n",
       "      <td>431 17:32:53</td>\n",
       "      <td>6012</td>\n",
       "      <td>2456</td>\n",
       "      <td>-163951.85</td>\n",
       "      <td>Финансовые институты — торговля и услуги</td>\n",
       "      <td>NaN</td>\n",
       "    </tr>\n",
       "    <tr>\n",
       "      <th>27974</th>\n",
       "      <td>54186907</td>\n",
       "      <td>287 00:00:00</td>\n",
       "      <td>6012</td>\n",
       "      <td>2460</td>\n",
       "      <td>-336887.37</td>\n",
       "      <td>Финансовые институты — торговля и услуги</td>\n",
       "      <td>NaN</td>\n",
       "    </tr>\n",
       "    <tr>\n",
       "      <th>29047</th>\n",
       "      <td>91104008</td>\n",
       "      <td>367 09:26:15</td>\n",
       "      <td>6012</td>\n",
       "      <td>2456</td>\n",
       "      <td>-21336.20</td>\n",
       "      <td>Финансовые институты — торговля и услуги</td>\n",
       "      <td>NaN</td>\n",
       "    </tr>\n",
       "    <tr>\n",
       "      <th>34137</th>\n",
       "      <td>7142110</td>\n",
       "      <td>425 13:09:05</td>\n",
       "      <td>6012</td>\n",
       "      <td>4097</td>\n",
       "      <td>-10106.62</td>\n",
       "      <td>Финансовые институты — торговля и услуги</td>\n",
       "      <td>NaN</td>\n",
       "    </tr>\n",
       "    <tr>\n",
       "      <th>39534</th>\n",
       "      <td>60293458</td>\n",
       "      <td>400 15:31:36</td>\n",
       "      <td>6012</td>\n",
       "      <td>2456</td>\n",
       "      <td>-11229.58</td>\n",
       "      <td>Финансовые институты — торговля и услуги</td>\n",
       "      <td>NaN</td>\n",
       "    </tr>\n",
       "    <tr>\n",
       "      <th>47442</th>\n",
       "      <td>27868636</td>\n",
       "      <td>295 00:00:00</td>\n",
       "      <td>6012</td>\n",
       "      <td>2460</td>\n",
       "      <td>-673774.73</td>\n",
       "      <td>Финансовые институты — торговля и услуги</td>\n",
       "      <td>NaN</td>\n",
       "    </tr>\n",
       "    <tr>\n",
       "      <th>50049</th>\n",
       "      <td>10056437</td>\n",
       "      <td>368 00:00:00</td>\n",
       "      <td>6012</td>\n",
       "      <td>2460</td>\n",
       "      <td>-224591.58</td>\n",
       "      <td>Финансовые институты — торговля и услуги</td>\n",
       "      <td>NaN</td>\n",
       "    </tr>\n",
       "    <tr>\n",
       "      <th>51031</th>\n",
       "      <td>91330600</td>\n",
       "      <td>342 00:00:00</td>\n",
       "      <td>6012</td>\n",
       "      <td>2460</td>\n",
       "      <td>-336887.37</td>\n",
       "      <td>Финансовые институты — торговля и услуги</td>\n",
       "      <td>NaN</td>\n",
       "    </tr>\n",
       "    <tr>\n",
       "      <th>56932</th>\n",
       "      <td>24885229</td>\n",
       "      <td>401 10:56:56</td>\n",
       "      <td>6012</td>\n",
       "      <td>4096</td>\n",
       "      <td>-673.77</td>\n",
       "      <td>Финансовые институты — торговля и услуги</td>\n",
       "      <td>NaN</td>\n",
       "    </tr>\n",
       "    <tr>\n",
       "      <th>58051</th>\n",
       "      <td>46448575</td>\n",
       "      <td>340 00:00:00</td>\n",
       "      <td>6012</td>\n",
       "      <td>2460</td>\n",
       "      <td>-18601.12</td>\n",
       "      <td>Финансовые институты — торговля и услуги</td>\n",
       "      <td>NaN</td>\n",
       "    </tr>\n",
       "    <tr>\n",
       "      <th>60602</th>\n",
       "      <td>87608341</td>\n",
       "      <td>394 17:05:26</td>\n",
       "      <td>6012</td>\n",
       "      <td>4097</td>\n",
       "      <td>-1684.44</td>\n",
       "      <td>Финансовые институты — торговля и услуги</td>\n",
       "      <td>NaN</td>\n",
       "    </tr>\n",
       "    <tr>\n",
       "      <th>65113</th>\n",
       "      <td>91330600</td>\n",
       "      <td>426 00:00:00</td>\n",
       "      <td>6012</td>\n",
       "      <td>2460</td>\n",
       "      <td>-7860.71</td>\n",
       "      <td>Финансовые институты — торговля и услуги</td>\n",
       "      <td>NaN</td>\n",
       "    </tr>\n",
       "    <tr>\n",
       "      <th>66855</th>\n",
       "      <td>66849308</td>\n",
       "      <td>182 00:00:00</td>\n",
       "      <td>6012</td>\n",
       "      <td>2460</td>\n",
       "      <td>-144457.30</td>\n",
       "      <td>Финансовые институты — торговля и услуги</td>\n",
       "      <td>NaN</td>\n",
       "    </tr>\n",
       "    <tr>\n",
       "      <th>73005</th>\n",
       "      <td>54186907</td>\n",
       "      <td>379 00:00:00</td>\n",
       "      <td>6012</td>\n",
       "      <td>2460</td>\n",
       "      <td>-224591.58</td>\n",
       "      <td>Финансовые институты — торговля и услуги</td>\n",
       "      <td>NaN</td>\n",
       "    </tr>\n",
       "    <tr>\n",
       "      <th>73065</th>\n",
       "      <td>75991312</td>\n",
       "      <td>427 11:44:31</td>\n",
       "      <td>6012</td>\n",
       "      <td>4097</td>\n",
       "      <td>-673.77</td>\n",
       "      <td>Финансовые институты — торговля и услуги</td>\n",
       "      <td>NaN</td>\n",
       "    </tr>\n",
       "    <tr>\n",
       "      <th>73903</th>\n",
       "      <td>43099100</td>\n",
       "      <td>257 00:00:00</td>\n",
       "      <td>6012</td>\n",
       "      <td>2460</td>\n",
       "      <td>-377313.85</td>\n",
       "      <td>Финансовые институты — торговля и услуги</td>\n",
       "      <td>NaN</td>\n",
       "    </tr>\n",
       "    <tr>\n",
       "      <th>75919</th>\n",
       "      <td>10056437</td>\n",
       "      <td>309 00:00:00</td>\n",
       "      <td>6012</td>\n",
       "      <td>2460</td>\n",
       "      <td>-224591.58</td>\n",
       "      <td>Финансовые институты — торговля и услуги</td>\n",
       "      <td>NaN</td>\n",
       "    </tr>\n",
       "    <tr>\n",
       "      <th>79125</th>\n",
       "      <td>36100475</td>\n",
       "      <td>422 00:00:00</td>\n",
       "      <td>6012</td>\n",
       "      <td>2460</td>\n",
       "      <td>-112295.79</td>\n",
       "      <td>Финансовые институты — торговля и услуги</td>\n",
       "      <td>NaN</td>\n",
       "    </tr>\n",
       "    <tr>\n",
       "      <th>87764</th>\n",
       "      <td>27868636</td>\n",
       "      <td>277 00:00:00</td>\n",
       "      <td>6012</td>\n",
       "      <td>2460</td>\n",
       "      <td>-673774.73</td>\n",
       "      <td>Финансовые институты — торговля и услуги</td>\n",
       "      <td>NaN</td>\n",
       "    </tr>\n",
       "    <tr>\n",
       "      <th>96969</th>\n",
       "      <td>27868636</td>\n",
       "      <td>446 00:00:00</td>\n",
       "      <td>6012</td>\n",
       "      <td>2460</td>\n",
       "      <td>-673774.73</td>\n",
       "      <td>Финансовые институты — торговля и услуги</td>\n",
       "      <td>NaN</td>\n",
       "    </tr>\n",
       "    <tr>\n",
       "      <th>101929</th>\n",
       "      <td>32642404</td>\n",
       "      <td>229 00:00:00</td>\n",
       "      <td>6012</td>\n",
       "      <td>2460</td>\n",
       "      <td>-114766.30</td>\n",
       "      <td>Финансовые институты — торговля и услуги</td>\n",
       "      <td>NaN</td>\n",
       "    </tr>\n",
       "    <tr>\n",
       "      <th>103336</th>\n",
       "      <td>73580723</td>\n",
       "      <td>405 00:00:00</td>\n",
       "      <td>6012</td>\n",
       "      <td>2460</td>\n",
       "      <td>-67377.47</td>\n",
       "      <td>Финансовые институты — торговля и услуги</td>\n",
       "      <td>NaN</td>\n",
       "    </tr>\n",
       "    <tr>\n",
       "      <th>105273</th>\n",
       "      <td>16422350</td>\n",
       "      <td>151 00:00:00</td>\n",
       "      <td>6012</td>\n",
       "      <td>2460</td>\n",
       "      <td>-673774.73</td>\n",
       "      <td>Финансовые институты — торговля и услуги</td>\n",
       "      <td>NaN</td>\n",
       "    </tr>\n",
       "    <tr>\n",
       "      <th>106315</th>\n",
       "      <td>97376938</td>\n",
       "      <td>451 17:47:33</td>\n",
       "      <td>6012</td>\n",
       "      <td>2456</td>\n",
       "      <td>-132509.03</td>\n",
       "      <td>Финансовые институты — торговля и услуги</td>\n",
       "      <td>NaN</td>\n",
       "    </tr>\n",
       "    <tr>\n",
       "      <th>106686</th>\n",
       "      <td>73580723</td>\n",
       "      <td>383 00:00:00</td>\n",
       "      <td>6012</td>\n",
       "      <td>2460</td>\n",
       "      <td>-4716.42</td>\n",
       "      <td>Финансовые институты — торговля и услуги</td>\n",
       "      <td>NaN</td>\n",
       "    </tr>\n",
       "    <tr>\n",
       "      <th>113282</th>\n",
       "      <td>26069968</td>\n",
       "      <td>425 12:27:56</td>\n",
       "      <td>6012</td>\n",
       "      <td>4096</td>\n",
       "      <td>-673.77</td>\n",
       "      <td>Финансовые институты — торговля и услуги</td>\n",
       "      <td>NaN</td>\n",
       "    </tr>\n",
       "    <tr>\n",
       "      <th>115590</th>\n",
       "      <td>20320139</td>\n",
       "      <td>374 12:03:40</td>\n",
       "      <td>6012</td>\n",
       "      <td>4097</td>\n",
       "      <td>-3368.87</td>\n",
       "      <td>Финансовые институты — торговля и услуги</td>\n",
       "      <td>NaN</td>\n",
       "    </tr>\n",
       "    <tr>\n",
       "      <th>116462</th>\n",
       "      <td>62199454</td>\n",
       "      <td>431 00:00:00</td>\n",
       "      <td>6012</td>\n",
       "      <td>2460</td>\n",
       "      <td>-42672.40</td>\n",
       "      <td>Финансовые институты — торговля и услуги</td>\n",
       "      <td>NaN</td>\n",
       "    </tr>\n",
       "    <tr>\n",
       "      <th>116590</th>\n",
       "      <td>78728657</td>\n",
       "      <td>386 16:08:49</td>\n",
       "      <td>6012</td>\n",
       "      <td>4097</td>\n",
       "      <td>-673.77</td>\n",
       "      <td>Финансовые институты — торговля и услуги</td>\n",
       "      <td>NaN</td>\n",
       "    </tr>\n",
       "    <tr>\n",
       "      <th>124372</th>\n",
       "      <td>75991312</td>\n",
       "      <td>424 18:02:24</td>\n",
       "      <td>6012</td>\n",
       "      <td>4097</td>\n",
       "      <td>-673.77</td>\n",
       "      <td>Финансовые институты — торговля и услуги</td>\n",
       "      <td>NaN</td>\n",
       "    </tr>\n",
       "    <tr>\n",
       "      <th>124457</th>\n",
       "      <td>40824471</td>\n",
       "      <td>340 00:00:00</td>\n",
       "      <td>6012</td>\n",
       "      <td>2460</td>\n",
       "      <td>-561478.94</td>\n",
       "      <td>Финансовые институты — торговля и услуги</td>\n",
       "      <td>NaN</td>\n",
       "    </tr>\n",
       "    <tr>\n",
       "      <th>125524</th>\n",
       "      <td>73033241</td>\n",
       "      <td>84 00:00:00</td>\n",
       "      <td>6012</td>\n",
       "      <td>2460</td>\n",
       "      <td>-122957.60</td>\n",
       "      <td>Финансовые институты — торговля и услуги</td>\n",
       "      <td>NaN</td>\n",
       "    </tr>\n",
       "    <tr>\n",
       "      <th>129847</th>\n",
       "      <td>353313</td>\n",
       "      <td>163 00:00:00</td>\n",
       "      <td>6012</td>\n",
       "      <td>2460</td>\n",
       "      <td>-23132.93</td>\n",
       "      <td>Финансовые институты — торговля и услуги</td>\n",
       "      <td>NaN</td>\n",
       "    </tr>\n",
       "  </tbody>\n",
       "</table>\n",
       "</div>"
      ],
      "text/plain": [
       "        client_id      datetime  code  type        sum  \\\n",
       "5379     44676756  335 10:39:55  6012  2456 -202132.42   \n",
       "7169     50988636  446 00:00:00  6012  2460 -359346.52   \n",
       "12546    97376938  389 15:44:04  6012  2456 -121369.29   \n",
       "13062    78085289  396 10:13:25  6012  4097   -3368.87   \n",
       "16212    97000670  409 12:27:01  6012  4097   -3368.87   \n",
       "17153    36100475  343 00:00:00  6012  2460 -673774.73   \n",
       "21375     3568140  426 10:38:01  6012  2456  -24705.07   \n",
       "22038    60340891  444 21:24:56  6012  4097    -673.77   \n",
       "24801    60293458  431 17:32:53  6012  2456 -163951.85   \n",
       "27974    54186907  287 00:00:00  6012  2460 -336887.37   \n",
       "29047    91104008  367 09:26:15  6012  2456  -21336.20   \n",
       "34137     7142110  425 13:09:05  6012  4097  -10106.62   \n",
       "39534    60293458  400 15:31:36  6012  2456  -11229.58   \n",
       "47442    27868636  295 00:00:00  6012  2460 -673774.73   \n",
       "50049    10056437  368 00:00:00  6012  2460 -224591.58   \n",
       "51031    91330600  342 00:00:00  6012  2460 -336887.37   \n",
       "56932    24885229  401 10:56:56  6012  4096    -673.77   \n",
       "58051    46448575  340 00:00:00  6012  2460  -18601.12   \n",
       "60602    87608341  394 17:05:26  6012  4097   -1684.44   \n",
       "65113    91330600  426 00:00:00  6012  2460   -7860.71   \n",
       "66855    66849308  182 00:00:00  6012  2460 -144457.30   \n",
       "73005    54186907  379 00:00:00  6012  2460 -224591.58   \n",
       "73065    75991312  427 11:44:31  6012  4097    -673.77   \n",
       "73903    43099100  257 00:00:00  6012  2460 -377313.85   \n",
       "75919    10056437  309 00:00:00  6012  2460 -224591.58   \n",
       "79125    36100475  422 00:00:00  6012  2460 -112295.79   \n",
       "87764    27868636  277 00:00:00  6012  2460 -673774.73   \n",
       "96969    27868636  446 00:00:00  6012  2460 -673774.73   \n",
       "101929   32642404  229 00:00:00  6012  2460 -114766.30   \n",
       "103336   73580723  405 00:00:00  6012  2460  -67377.47   \n",
       "105273   16422350  151 00:00:00  6012  2460 -673774.73   \n",
       "106315   97376938  451 17:47:33  6012  2456 -132509.03   \n",
       "106686   73580723  383 00:00:00  6012  2460   -4716.42   \n",
       "113282   26069968  425 12:27:56  6012  4096    -673.77   \n",
       "115590   20320139  374 12:03:40  6012  4097   -3368.87   \n",
       "116462   62199454  431 00:00:00  6012  2460  -42672.40   \n",
       "116590   78728657  386 16:08:49  6012  4097    -673.77   \n",
       "124372   75991312  424 18:02:24  6012  4097    -673.77   \n",
       "124457   40824471  340 00:00:00  6012  2460 -561478.94   \n",
       "125524   73033241   84 00:00:00  6012  2460 -122957.60   \n",
       "129847     353313  163 00:00:00  6012  2460  -23132.93   \n",
       "\n",
       "                                code_description type_description  \n",
       "5379    Финансовые институты — торговля и услуги              NaN  \n",
       "7169    Финансовые институты — торговля и услуги              NaN  \n",
       "12546   Финансовые институты — торговля и услуги              NaN  \n",
       "13062   Финансовые институты — торговля и услуги              NaN  \n",
       "16212   Финансовые институты — торговля и услуги              NaN  \n",
       "17153   Финансовые институты — торговля и услуги              NaN  \n",
       "21375   Финансовые институты — торговля и услуги              NaN  \n",
       "22038   Финансовые институты — торговля и услуги              NaN  \n",
       "24801   Финансовые институты — торговля и услуги              NaN  \n",
       "27974   Финансовые институты — торговля и услуги              NaN  \n",
       "29047   Финансовые институты — торговля и услуги              NaN  \n",
       "34137   Финансовые институты — торговля и услуги              NaN  \n",
       "39534   Финансовые институты — торговля и услуги              NaN  \n",
       "47442   Финансовые институты — торговля и услуги              NaN  \n",
       "50049   Финансовые институты — торговля и услуги              NaN  \n",
       "51031   Финансовые институты — торговля и услуги              NaN  \n",
       "56932   Финансовые институты — торговля и услуги              NaN  \n",
       "58051   Финансовые институты — торговля и услуги              NaN  \n",
       "60602   Финансовые институты — торговля и услуги              NaN  \n",
       "65113   Финансовые институты — торговля и услуги              NaN  \n",
       "66855   Финансовые институты — торговля и услуги              NaN  \n",
       "73005   Финансовые институты — торговля и услуги              NaN  \n",
       "73065   Финансовые институты — торговля и услуги              NaN  \n",
       "73903   Финансовые институты — торговля и услуги              NaN  \n",
       "75919   Финансовые институты — торговля и услуги              NaN  \n",
       "79125   Финансовые институты — торговля и услуги              NaN  \n",
       "87764   Финансовые институты — торговля и услуги              NaN  \n",
       "96969   Финансовые институты — торговля и услуги              NaN  \n",
       "101929  Финансовые институты — торговля и услуги              NaN  \n",
       "103336  Финансовые институты — торговля и услуги              NaN  \n",
       "105273  Финансовые институты — торговля и услуги              NaN  \n",
       "106315  Финансовые институты — торговля и услуги              NaN  \n",
       "106686  Финансовые институты — торговля и услуги              NaN  \n",
       "113282  Финансовые институты — торговля и услуги              NaN  \n",
       "115590  Финансовые институты — торговля и услуги              NaN  \n",
       "116462  Финансовые институты — торговля и услуги              NaN  \n",
       "116590  Финансовые институты — торговля и услуги              NaN  \n",
       "124372  Финансовые институты — торговля и услуги              NaN  \n",
       "124457  Финансовые институты — торговля и услуги              NaN  \n",
       "125524  Финансовые институты — торговля и услуги              NaN  \n",
       "129847  Финансовые институты — торговля и услуги              NaN  "
      ]
     },
     "execution_count": 36,
     "metadata": {},
     "output_type": "execute_result"
    }
   ],
   "source": [
    "NaN_val = merged_table.isnull()\n",
    "row_has_NaN_val = NaN_val.any(axis=1)\n",
    "rows_with_NaN = merged_table[row_has_NaN_val]\n",
    "rows_with_NaN"
   ]
  },
  {
   "cell_type": "code",
   "execution_count": 37,
   "metadata": {},
   "outputs": [
    {
     "data": {
      "text/plain": [
       "558444.5224348905"
      ]
     },
     "execution_count": 37,
     "metadata": {},
     "output_type": "execute_result"
    }
   ],
   "source": [
    "merged_table[\"sum\"].std()"
   ]
  },
  {
   "cell_type": "code",
   "execution_count": 38,
   "metadata": {},
   "outputs": [
    {
     "data": {
      "text/plain": [
       "-5502.49"
      ]
     },
     "execution_count": 38,
     "metadata": {},
     "output_type": "execute_result"
    }
   ],
   "source": [
    "merged_table[\"sum\"].median()"
   ]
  },
  {
   "cell_type": "code",
   "execution_count": 39,
   "metadata": {},
   "outputs": [
    {
     "data": {
      "text/plain": [
       "client_id           False\n",
       "datetime            False\n",
       "code                False\n",
       "type                False\n",
       "sum                 False\n",
       "code_description    False\n",
       "type_description    False\n",
       "dtype: bool"
      ]
     },
     "execution_count": 39,
     "metadata": {},
     "output_type": "execute_result"
    }
   ],
   "source": [
    "merged_table.dropna(inplace=True)\n",
    "merged_table.isna().any()\n"
   ]
  },
  {
   "cell_type": "code",
   "execution_count": 40,
   "metadata": {},
   "outputs": [
    {
     "data": {
      "text/html": [
       "<div>\n",
       "<style scoped>\n",
       "    .dataframe tbody tr th:only-of-type {\n",
       "        vertical-align: middle;\n",
       "    }\n",
       "\n",
       "    .dataframe tbody tr th {\n",
       "        vertical-align: top;\n",
       "    }\n",
       "\n",
       "    .dataframe thead th {\n",
       "        text-align: right;\n",
       "    }\n",
       "</style>\n",
       "<table border=\"1\" class=\"dataframe\">\n",
       "  <thead>\n",
       "    <tr style=\"text-align: right;\">\n",
       "      <th></th>\n",
       "      <th>client_id</th>\n",
       "      <th>datetime</th>\n",
       "      <th>code</th>\n",
       "      <th>type</th>\n",
       "      <th>sum</th>\n",
       "      <th>code_description</th>\n",
       "      <th>type_description</th>\n",
       "    </tr>\n",
       "  </thead>\n",
       "  <tbody>\n",
       "    <tr>\n",
       "      <th>0</th>\n",
       "      <td>False</td>\n",
       "      <td>False</td>\n",
       "      <td>False</td>\n",
       "      <td>False</td>\n",
       "      <td>False</td>\n",
       "      <td>False</td>\n",
       "      <td>False</td>\n",
       "    </tr>\n",
       "    <tr>\n",
       "      <th>1</th>\n",
       "      <td>False</td>\n",
       "      <td>False</td>\n",
       "      <td>False</td>\n",
       "      <td>False</td>\n",
       "      <td>False</td>\n",
       "      <td>False</td>\n",
       "      <td>False</td>\n",
       "    </tr>\n",
       "    <tr>\n",
       "      <th>2</th>\n",
       "      <td>False</td>\n",
       "      <td>False</td>\n",
       "      <td>False</td>\n",
       "      <td>False</td>\n",
       "      <td>False</td>\n",
       "      <td>False</td>\n",
       "      <td>False</td>\n",
       "    </tr>\n",
       "    <tr>\n",
       "      <th>3</th>\n",
       "      <td>False</td>\n",
       "      <td>False</td>\n",
       "      <td>False</td>\n",
       "      <td>False</td>\n",
       "      <td>False</td>\n",
       "      <td>False</td>\n",
       "      <td>False</td>\n",
       "    </tr>\n",
       "    <tr>\n",
       "      <th>4</th>\n",
       "      <td>False</td>\n",
       "      <td>False</td>\n",
       "      <td>False</td>\n",
       "      <td>False</td>\n",
       "      <td>False</td>\n",
       "      <td>False</td>\n",
       "      <td>False</td>\n",
       "    </tr>\n",
       "    <tr>\n",
       "      <th>...</th>\n",
       "      <td>...</td>\n",
       "      <td>...</td>\n",
       "      <td>...</td>\n",
       "      <td>...</td>\n",
       "      <td>...</td>\n",
       "      <td>...</td>\n",
       "      <td>...</td>\n",
       "    </tr>\n",
       "    <tr>\n",
       "      <th>130034</th>\n",
       "      <td>False</td>\n",
       "      <td>False</td>\n",
       "      <td>False</td>\n",
       "      <td>False</td>\n",
       "      <td>False</td>\n",
       "      <td>False</td>\n",
       "      <td>False</td>\n",
       "    </tr>\n",
       "    <tr>\n",
       "      <th>130035</th>\n",
       "      <td>False</td>\n",
       "      <td>False</td>\n",
       "      <td>False</td>\n",
       "      <td>False</td>\n",
       "      <td>False</td>\n",
       "      <td>False</td>\n",
       "      <td>False</td>\n",
       "    </tr>\n",
       "    <tr>\n",
       "      <th>130036</th>\n",
       "      <td>False</td>\n",
       "      <td>False</td>\n",
       "      <td>False</td>\n",
       "      <td>False</td>\n",
       "      <td>False</td>\n",
       "      <td>False</td>\n",
       "      <td>False</td>\n",
       "    </tr>\n",
       "    <tr>\n",
       "      <th>130037</th>\n",
       "      <td>False</td>\n",
       "      <td>False</td>\n",
       "      <td>False</td>\n",
       "      <td>False</td>\n",
       "      <td>False</td>\n",
       "      <td>False</td>\n",
       "      <td>False</td>\n",
       "    </tr>\n",
       "    <tr>\n",
       "      <th>130038</th>\n",
       "      <td>False</td>\n",
       "      <td>False</td>\n",
       "      <td>False</td>\n",
       "      <td>False</td>\n",
       "      <td>False</td>\n",
       "      <td>False</td>\n",
       "      <td>False</td>\n",
       "    </tr>\n",
       "  </tbody>\n",
       "</table>\n",
       "<p>129998 rows × 7 columns</p>\n",
       "</div>"
      ],
      "text/plain": [
       "        client_id  datetime   code   type    sum  code_description  \\\n",
       "0           False     False  False  False  False             False   \n",
       "1           False     False  False  False  False             False   \n",
       "2           False     False  False  False  False             False   \n",
       "3           False     False  False  False  False             False   \n",
       "4           False     False  False  False  False             False   \n",
       "...           ...       ...    ...    ...    ...               ...   \n",
       "130034      False     False  False  False  False             False   \n",
       "130035      False     False  False  False  False             False   \n",
       "130036      False     False  False  False  False             False   \n",
       "130037      False     False  False  False  False             False   \n",
       "130038      False     False  False  False  False             False   \n",
       "\n",
       "        type_description  \n",
       "0                  False  \n",
       "1                  False  \n",
       "2                  False  \n",
       "3                  False  \n",
       "4                  False  \n",
       "...                  ...  \n",
       "130034             False  \n",
       "130035             False  \n",
       "130036             False  \n",
       "130037             False  \n",
       "130038             False  \n",
       "\n",
       "[129998 rows x 7 columns]"
      ]
     },
     "execution_count": 40,
     "metadata": {},
     "output_type": "execute_result"
    }
   ],
   "source": [
    "merged_table.isnull()"
   ]
  },
  {
   "cell_type": "markdown",
   "metadata": {},
   "source": [
    "# Explanatory data analysis. Exploring the features, visualizations etc."
   ]
  },
  {
   "cell_type": "code",
   "execution_count": 41,
   "metadata": {},
   "outputs": [
    {
     "data": {
      "image/png": "[encoded data removed]",
      "text/plain": [
       "<Figure size 792x224.64 with 1 Axes>"
      ]
     },
     "metadata": {
      "needs_background": "light"
     },
     "output_type": "display_data"
    }
   ],
   "source": [
    "def desc_stats(dataframe):\n",
    "    desc = dataframe.describe().T\n",
    "    desc_df = pd.DataFrame(index= dataframe.columns, \n",
    "                           columns= desc.columns,\n",
    "                           data= desc)\n",
    "    \n",
    "    f,ax = plt.subplots(figsize=(11, desc_df.shape[0]*0.78))\n",
    "    sns.heatmap(desc_df,\n",
    "                annot=True,\n",
    "                cmap = \"Wistia\",\n",
    "                fmt= '.2f',\n",
    "                ax=ax,\n",
    "                linecolor='white',\n",
    "                linewidths = 1.3,\n",
    "                cbar = False,\n",
    "                annot_kws={\"size\": 10})\n",
    "    plt.xticks(size = 18)\n",
    "    plt.yticks(size = 14, rotation = 0)\n",
    "    plt.title(\"Descriptive Statistics\", size = 14)\n",
    "    plt.show()\n",
    "\n",
    "desc_stats(transactions[[col for col in transactions.columns if transactions[col].dtype != 'O']])"
   ]
  },
  {
   "cell_type": "markdown",
   "metadata": {},
   "source": [
    "# Find the percentage of gender by pie chart\n"
   ]
  },
  {
   "cell_type": "code",
   "execution_count": 42,
   "metadata": {},
   "outputs": [
    {
     "data": {
      "image/png": "[encoded data removed]",
      "text/plain": [
       "<Figure size 432x288 with 1 Axes>"
      ]
     },
     "metadata": {},
     "output_type": "display_data"
    }
   ],
   "source": [
    "x = train['target'].value_counts()\n",
    "\n",
    "plt.pie(x, labels=['Male', 'Female'], startangle=90, autopct='%.1f%%');"
   ]
  },
  {
   "cell_type": "code",
   "execution_count": 43,
   "metadata": {},
   "outputs": [],
   "source": [
    "merged_table['days'] = merged_table.datetime.str[:-9]"
   ]
  },
  {
   "cell_type": "code",
   "execution_count": 44,
   "metadata": {},
   "outputs": [
    {
     "data": {
      "text/html": [
       "<div>\n",
       "<style scoped>\n",
       "    .dataframe tbody tr th:only-of-type {\n",
       "        vertical-align: middle;\n",
       "    }\n",
       "\n",
       "    .dataframe tbody tr th {\n",
       "        vertical-align: top;\n",
       "    }\n",
       "\n",
       "    .dataframe thead th {\n",
       "        text-align: right;\n",
       "    }\n",
       "</style>\n",
       "<table border=\"1\" class=\"dataframe\">\n",
       "  <thead>\n",
       "    <tr style=\"text-align: right;\">\n",
       "      <th></th>\n",
       "      <th>client_id</th>\n",
       "      <th>datetime</th>\n",
       "      <th>code</th>\n",
       "      <th>type</th>\n",
       "      <th>sum</th>\n",
       "      <th>code_description</th>\n",
       "      <th>type_description</th>\n",
       "      <th>days</th>\n",
       "    </tr>\n",
       "  </thead>\n",
       "  <tbody>\n",
       "    <tr>\n",
       "      <th>0</th>\n",
       "      <td>96372458</td>\n",
       "      <td>421 06:33:15</td>\n",
       "      <td>6011</td>\n",
       "      <td>2010</td>\n",
       "      <td>-561478.94</td>\n",
       "      <td>Финансовые институты — снятие наличности автом...</td>\n",
       "      <td>Выдача наличных в АТМ</td>\n",
       "      <td>421</td>\n",
       "    </tr>\n",
       "    <tr>\n",
       "      <th>1</th>\n",
       "      <td>24567813</td>\n",
       "      <td>377 17:20:40</td>\n",
       "      <td>6011</td>\n",
       "      <td>7010</td>\n",
       "      <td>67377.47</td>\n",
       "      <td>Финансовые институты — снятие наличности автом...</td>\n",
       "      <td>Взнос наличных через АТМ (в своем тер.банке)</td>\n",
       "      <td>377</td>\n",
       "    </tr>\n",
       "    <tr>\n",
       "      <th>2</th>\n",
       "      <td>21717441</td>\n",
       "      <td>55 13:38:47</td>\n",
       "      <td>6011</td>\n",
       "      <td>2010</td>\n",
       "      <td>-44918.32</td>\n",
       "      <td>Финансовые институты — снятие наличности автом...</td>\n",
       "      <td>Выдача наличных в АТМ</td>\n",
       "      <td>55</td>\n",
       "    </tr>\n",
       "    <tr>\n",
       "      <th>3</th>\n",
       "      <td>14331004</td>\n",
       "      <td>263 12:57:08</td>\n",
       "      <td>6011</td>\n",
       "      <td>2010</td>\n",
       "      <td>-3368873.66</td>\n",
       "      <td>Финансовые институты — снятие наличности автом...</td>\n",
       "      <td>Выдача наличных в АТМ</td>\n",
       "      <td>263</td>\n",
       "    </tr>\n",
       "    <tr>\n",
       "      <th>4</th>\n",
       "      <td>85302434</td>\n",
       "      <td>151 10:34:12</td>\n",
       "      <td>4814</td>\n",
       "      <td>1030</td>\n",
       "      <td>-3368.87</td>\n",
       "      <td>Звонки с использованием телефонов, считывающих...</td>\n",
       "      <td>Оплата услуги. Банкоматы</td>\n",
       "      <td>151</td>\n",
       "    </tr>\n",
       "    <tr>\n",
       "      <th>...</th>\n",
       "      <td>...</td>\n",
       "      <td>...</td>\n",
       "      <td>...</td>\n",
       "      <td>...</td>\n",
       "      <td>...</td>\n",
       "      <td>...</td>\n",
       "      <td>...</td>\n",
       "      <td>...</td>\n",
       "    </tr>\n",
       "    <tr>\n",
       "      <th>130034</th>\n",
       "      <td>15836839</td>\n",
       "      <td>147 11:50:53</td>\n",
       "      <td>5411</td>\n",
       "      <td>1010</td>\n",
       "      <td>-26344.59</td>\n",
       "      <td>Бакалейные магазины, супермаркеты</td>\n",
       "      <td>Покупка. POS</td>\n",
       "      <td>147</td>\n",
       "    </tr>\n",
       "    <tr>\n",
       "      <th>130035</th>\n",
       "      <td>28369355</td>\n",
       "      <td>305 11:59:34</td>\n",
       "      <td>4829</td>\n",
       "      <td>2330</td>\n",
       "      <td>-24705.07</td>\n",
       "      <td>Денежные переводы</td>\n",
       "      <td>Списание с карты по операции “перевода с карты...</td>\n",
       "      <td>305</td>\n",
       "    </tr>\n",
       "    <tr>\n",
       "      <th>130036</th>\n",
       "      <td>40949707</td>\n",
       "      <td>398 21:13:58</td>\n",
       "      <td>5411</td>\n",
       "      <td>1110</td>\n",
       "      <td>-40353.72</td>\n",
       "      <td>Бакалейные магазины, супермаркеты</td>\n",
       "      <td>Покупка. POS</td>\n",
       "      <td>398</td>\n",
       "    </tr>\n",
       "    <tr>\n",
       "      <th>130037</th>\n",
       "      <td>7174462</td>\n",
       "      <td>409 13:58:14</td>\n",
       "      <td>5411</td>\n",
       "      <td>1010</td>\n",
       "      <td>-25536.06</td>\n",
       "      <td>Бакалейные магазины, супермаркеты</td>\n",
       "      <td>Покупка. POS</td>\n",
       "      <td>409</td>\n",
       "    </tr>\n",
       "    <tr>\n",
       "      <th>130038</th>\n",
       "      <td>92197764</td>\n",
       "      <td>319 00:00:00</td>\n",
       "      <td>5533</td>\n",
       "      <td>1110</td>\n",
       "      <td>-12127.95</td>\n",
       "      <td>Автозапчасти и аксессуары</td>\n",
       "      <td>Покупка. POS</td>\n",
       "      <td>319</td>\n",
       "    </tr>\n",
       "  </tbody>\n",
       "</table>\n",
       "<p>129998 rows × 8 columns</p>\n",
       "</div>"
      ],
      "text/plain": [
       "        client_id      datetime  code  type         sum  \\\n",
       "0        96372458  421 06:33:15  6011  2010  -561478.94   \n",
       "1        24567813  377 17:20:40  6011  7010    67377.47   \n",
       "2        21717441   55 13:38:47  6011  2010   -44918.32   \n",
       "3        14331004  263 12:57:08  6011  2010 -3368873.66   \n",
       "4        85302434  151 10:34:12  4814  1030    -3368.87   \n",
       "...           ...           ...   ...   ...         ...   \n",
       "130034   15836839  147 11:50:53  5411  1010   -26344.59   \n",
       "130035   28369355  305 11:59:34  4829  2330   -24705.07   \n",
       "130036   40949707  398 21:13:58  5411  1110   -40353.72   \n",
       "130037    7174462  409 13:58:14  5411  1010   -25536.06   \n",
       "130038   92197764  319 00:00:00  5533  1110   -12127.95   \n",
       "\n",
       "                                         code_description  \\\n",
       "0       Финансовые институты — снятие наличности автом...   \n",
       "1       Финансовые институты — снятие наличности автом...   \n",
       "2       Финансовые институты — снятие наличности автом...   \n",
       "3       Финансовые институты — снятие наличности автом...   \n",
       "4       Звонки с использованием телефонов, считывающих...   \n",
       "...                                                   ...   \n",
       "130034                  Бакалейные магазины, супермаркеты   \n",
       "130035                                  Денежные переводы   \n",
       "130036                  Бакалейные магазины, супермаркеты   \n",
       "130037                  Бакалейные магазины, супермаркеты   \n",
       "130038                          Автозапчасти и аксессуары   \n",
       "\n",
       "                                         type_description days  \n",
       "0                                   Выдача наличных в АТМ  421  \n",
       "1            Взнос наличных через АТМ (в своем тер.банке)  377  \n",
       "2                                   Выдача наличных в АТМ   55  \n",
       "3                                   Выдача наличных в АТМ  263  \n",
       "4                                Оплата услуги. Банкоматы  151  \n",
       "...                                                   ...  ...  \n",
       "130034                                      Покупка. POS   147  \n",
       "130035  Списание с карты по операции “перевода с карты...  305  \n",
       "130036                                      Покупка. POS   398  \n",
       "130037                                      Покупка. POS   409  \n",
       "130038                                      Покупка. POS   319  \n",
       "\n",
       "[129998 rows x 8 columns]"
      ]
     },
     "execution_count": 44,
     "metadata": {},
     "output_type": "execute_result"
    }
   ],
   "source": [
    "merged_table"
   ]
  },
  {
   "cell_type": "code",
   "execution_count": 45,
   "metadata": {},
   "outputs": [
    {
     "data": {
      "text/plain": [
       "448    434\n",
       "440    405\n",
       "410    404\n",
       "441    398\n",
       "314    398\n",
       "287    395\n",
       "426    390\n",
       "301    386\n",
       "399    383\n",
       "434    382\n",
       "322    381\n",
       "333    381\n",
       "406    380\n",
       "252    378\n",
       "447    373\n",
       "455    373\n",
       "280    371\n",
       "293    370\n",
       "272    369\n",
       "392    367\n",
       "343    367\n",
       "286    366\n",
       "418    366\n",
       "313    364\n",
       "431    364\n",
       "364    361\n",
       "453    361\n",
       "405    360\n",
       "336    359\n",
       "284    359\n",
       "Name: days, dtype: int64"
      ]
     },
     "execution_count": 45,
     "metadata": {},
     "output_type": "execute_result"
    }
   ],
   "source": [
    "altosh = merged_table['days'].value_counts()\n",
    "altosh.head(30)"
   ]
  },
  {
   "cell_type": "code",
   "execution_count": 46,
   "metadata": {},
   "outputs": [
    {
     "data": {
      "text/plain": [
       "<seaborn.axisgrid.FacetGrid at 0x1df3d354880>"
      ]
     },
     "execution_count": 46,
     "metadata": {},
     "output_type": "execute_result"
    },
    {
     "data": {
      "image/png": "[encoded data removed]",
      "text/plain": [
       "<Figure size 360x360 with 1 Axes>"
      ]
     },
     "metadata": {
      "needs_background": "light"
     },
     "output_type": "display_data"
    }
   ],
   "source": [
    "sns.displot(data=altosh,  kde=True)"
   ]
  },
  {
   "cell_type": "code",
   "execution_count": 47,
   "metadata": {},
   "outputs": [
    {
     "data": {
      "text/plain": [
       "<AxesSubplot:>"
      ]
     },
     "execution_count": 47,
     "metadata": {},
     "output_type": "execute_result"
    },
    {
     "data": {
      "image/png": "[encoded data removed]",
      "text/plain": [
       "<Figure size 432x288 with 1 Axes>"
      ]
     },
     "metadata": {
      "needs_background": "light"
     },
     "output_type": "display_data"
    }
   ],
   "source": [
    "merged_table['code_description'].value_counts()[0:10].plot.barh()"
   ]
  },
  {
   "cell_type": "code",
   "execution_count": 48,
   "metadata": {},
   "outputs": [
    {
     "data": {
      "text/plain": [
       "<AxesSubplot:>"
      ]
     },
     "execution_count": 48,
     "metadata": {},
     "output_type": "execute_result"
    },
    {
     "data": {
      "image/png": "[encoded data removed]",
      "text/plain": [
       "<Figure size 432x288 with 1 Axes>"
      ]
     },
     "metadata": {
      "needs_background": "light"
     },
     "output_type": "display_data"
    }
   ],
   "source": [
    "merged_table['type_description'].value_counts()[0:10].plot.barh()"
   ]
  },
  {
   "cell_type": "code",
   "execution_count": 49,
   "metadata": {},
   "outputs": [
    {
     "data": {
      "text/plain": [
       "<AxesSubplot:>"
      ]
     },
     "execution_count": 49,
     "metadata": {},
     "output_type": "execute_result"
    },
    {
     "data": {
      "image/png": "[encoded data removed]",
      "text/plain": [
       "<Figure size 432x288 with 1 Axes>"
      ]
     },
     "metadata": {
      "needs_background": "light"
     },
     "output_type": "display_data"
    }
   ],
   "source": [
    "merged_table['code_description'].value_counts()[0:10].plot(kind='bar')"
   ]
  },
  {
   "cell_type": "code",
   "execution_count": 50,
   "metadata": {},
   "outputs": [],
   "source": [
    "#sns.pairplot(merged_table)"
   ]
  },
  {
   "cell_type": "code",
   "execution_count": 51,
   "metadata": {},
   "outputs": [],
   "source": [
    "merged_table['days'] = merged_table['days'].astype('int')"
   ]
  },
  {
   "cell_type": "code",
   "execution_count": 52,
   "metadata": {},
   "outputs": [
    {
     "data": {
      "text/html": [
       "<div>\n",
       "<style scoped>\n",
       "    .dataframe tbody tr th:only-of-type {\n",
       "        vertical-align: middle;\n",
       "    }\n",
       "\n",
       "    .dataframe tbody tr th {\n",
       "        vertical-align: top;\n",
       "    }\n",
       "\n",
       "    .dataframe thead th {\n",
       "        text-align: right;\n",
       "    }\n",
       "</style>\n",
       "<table border=\"1\" class=\"dataframe\">\n",
       "  <thead>\n",
       "    <tr style=\"text-align: right;\">\n",
       "      <th></th>\n",
       "      <th>client_id</th>\n",
       "      <th>code</th>\n",
       "      <th>type</th>\n",
       "      <th>sum</th>\n",
       "      <th>days</th>\n",
       "    </tr>\n",
       "  </thead>\n",
       "  <tbody>\n",
       "    <tr>\n",
       "      <th>client_id</th>\n",
       "      <td>1.000000</td>\n",
       "      <td>0.003058</td>\n",
       "      <td>0.023086</td>\n",
       "      <td>0.003380</td>\n",
       "      <td>-0.003368</td>\n",
       "    </tr>\n",
       "    <tr>\n",
       "      <th>code</th>\n",
       "      <td>0.003058</td>\n",
       "      <td>1.000000</td>\n",
       "      <td>0.322596</td>\n",
       "      <td>0.046632</td>\n",
       "      <td>-0.005501</td>\n",
       "    </tr>\n",
       "    <tr>\n",
       "      <th>type</th>\n",
       "      <td>0.023086</td>\n",
       "      <td>0.322596</td>\n",
       "      <td>1.000000</td>\n",
       "      <td>0.137752</td>\n",
       "      <td>0.005361</td>\n",
       "    </tr>\n",
       "    <tr>\n",
       "      <th>sum</th>\n",
       "      <td>0.003380</td>\n",
       "      <td>0.046632</td>\n",
       "      <td>0.137752</td>\n",
       "      <td>1.000000</td>\n",
       "      <td>-0.000105</td>\n",
       "    </tr>\n",
       "    <tr>\n",
       "      <th>days</th>\n",
       "      <td>-0.003368</td>\n",
       "      <td>-0.005501</td>\n",
       "      <td>0.005361</td>\n",
       "      <td>-0.000105</td>\n",
       "      <td>1.000000</td>\n",
       "    </tr>\n",
       "  </tbody>\n",
       "</table>\n",
       "</div>"
      ],
      "text/plain": [
       "           client_id      code      type       sum      days\n",
       "client_id   1.000000  0.003058  0.023086  0.003380 -0.003368\n",
       "code        0.003058  1.000000  0.322596  0.046632 -0.005501\n",
       "type        0.023086  0.322596  1.000000  0.137752  0.005361\n",
       "sum         0.003380  0.046632  0.137752  1.000000 -0.000105\n",
       "days       -0.003368 -0.005501  0.005361 -0.000105  1.000000"
      ]
     },
     "execution_count": 52,
     "metadata": {},
     "output_type": "execute_result"
    }
   ],
   "source": [
    "merged_table.corr()"
   ]
  },
  {
   "cell_type": "code",
   "execution_count": 53,
   "metadata": {},
   "outputs": [
    {
     "data": {
      "text/plain": [
       "<AxesSubplot:>"
      ]
     },
     "execution_count": 53,
     "metadata": {},
     "output_type": "execute_result"
    },
    {
     "data": {
      "image/png": "[encoded data removed]",
      "text/plain": [
       "<Figure size 432x288 with 2 Axes>"
      ]
     },
     "metadata": {
      "needs_background": "light"
     },
     "output_type": "display_data"
    }
   ],
   "source": [
    "sns.heatmap(merged_table.corr(),vmin=-1, vmax=1, annot=True, cmap='BrBG')"
   ]
  },
  {
   "cell_type": "code",
   "execution_count": 54,
   "metadata": {},
   "outputs": [],
   "source": [
    "merged_table_num = merged_table[['code','type','sum','days']] #numerical data\n",
    "merged_table_cat = merged_table[['code_description','type_description']] #cathegorical data"
   ]
  },
  {
   "cell_type": "code",
   "execution_count": 55,
   "metadata": {},
   "outputs": [
    {
     "data": {
      "text/plain": [
       "<AxesSubplot:>"
      ]
     },
     "execution_count": 55,
     "metadata": {},
     "output_type": "execute_result"
    },
    {
     "data": {
      "image/png": "[encoded data removed]",
      "text/plain": [
       "<Figure size 432x288 with 1 Axes>"
      ]
     },
     "metadata": {
      "needs_background": "light"
     },
     "output_type": "display_data"
    }
   ],
   "source": [
    "merged_table.boxplot(column = ['days'])"
   ]
  },
  {
   "cell_type": "code",
   "execution_count": 56,
   "metadata": {},
   "outputs": [
    {
     "data": {
      "text/plain": [
       "<AxesSubplot:>"
      ]
     },
     "execution_count": 56,
     "metadata": {},
     "output_type": "execute_result"
    },
    {
     "data": {
      "image/png": "[encoded data removed]",
      "text/plain": [
       "<Figure size 432x288 with 1 Axes>"
      ]
     },
     "metadata": {
      "needs_background": "light"
     },
     "output_type": "display_data"
    }
   ],
   "source": [
    "merged_table.boxplot(column = ['code'])"
   ]
  },
  {
   "cell_type": "code",
   "execution_count": 57,
   "metadata": {},
   "outputs": [
    {
     "data": {
      "image/png": "[encoded data removed]",
      "text/plain": [
       "<Figure size 432x288 with 1 Axes>"
      ]
     },
     "metadata": {
      "needs_background": "light"
     },
     "output_type": "display_data"
    }
   ],
   "source": [
    "fig, ax = plt.subplots(1, 1)\n",
    "ax.hist(merged_table['days'], bins = 10)\n",
    "\n",
    "ax.set_title(\"Days histogram\")\n",
    "ax.set_xlabel('Days')\n",
    "ax.set_ylabel('number of days')\n",
    "plt.show()"
   ]
  },
  {
   "cell_type": "markdown",
   "metadata": {},
   "source": [
    "# 3. Feature Engineering"
   ]
  },
  {
   "cell_type": "markdown",
   "metadata": {},
   "source": [
    "### RFM method:"
   ]
  },
  {
   "cell_type": "markdown",
   "metadata": {},
   "source": [
    "New dataframe which contains clients"
   ]
  },
  {
   "cell_type": "code",
   "execution_count": 58,
   "metadata": {},
   "outputs": [
    {
     "data": {
      "text/html": [
       "<div>\n",
       "<style scoped>\n",
       "    .dataframe tbody tr th:only-of-type {\n",
       "        vertical-align: middle;\n",
       "    }\n",
       "\n",
       "    .dataframe tbody tr th {\n",
       "        vertical-align: top;\n",
       "    }\n",
       "\n",
       "    .dataframe thead th {\n",
       "        text-align: right;\n",
       "    }\n",
       "</style>\n",
       "<table border=\"1\" class=\"dataframe\">\n",
       "  <thead>\n",
       "    <tr style=\"text-align: right;\">\n",
       "      <th></th>\n",
       "      <th>client_id</th>\n",
       "    </tr>\n",
       "  </thead>\n",
       "  <tbody>\n",
       "    <tr>\n",
       "      <th>0</th>\n",
       "      <td>96372458</td>\n",
       "    </tr>\n",
       "    <tr>\n",
       "      <th>1</th>\n",
       "      <td>24567813</td>\n",
       "    </tr>\n",
       "    <tr>\n",
       "      <th>2</th>\n",
       "      <td>21717441</td>\n",
       "    </tr>\n",
       "    <tr>\n",
       "      <th>3</th>\n",
       "      <td>14331004</td>\n",
       "    </tr>\n",
       "    <tr>\n",
       "      <th>4</th>\n",
       "      <td>85302434</td>\n",
       "    </tr>\n",
       "  </tbody>\n",
       "</table>\n",
       "</div>"
      ],
      "text/plain": [
       "   client_id\n",
       "0   96372458\n",
       "1   24567813\n",
       "2   21717441\n",
       "3   14331004\n",
       "4   85302434"
      ]
     },
     "execution_count": 58,
     "metadata": {},
     "output_type": "execute_result"
    }
   ],
   "source": [
    "client_id_list = list(transactions['client_id'].unique())\n",
    "clients = pd.DataFrame(client_id_list, columns=['client_id'])\n",
    "clients.head(5)"
   ]
  },
  {
   "cell_type": "markdown",
   "metadata": {},
   "source": [
    "To calculate **recency** we can split column 'datetime' into 2 column: day and time"
   ]
  },
  {
   "cell_type": "code",
   "execution_count": 59,
   "metadata": {},
   "outputs": [
    {
     "data": {
      "text/html": [
       "<div>\n",
       "<style scoped>\n",
       "    .dataframe tbody tr th:only-of-type {\n",
       "        vertical-align: middle;\n",
       "    }\n",
       "\n",
       "    .dataframe tbody tr th {\n",
       "        vertical-align: top;\n",
       "    }\n",
       "\n",
       "    .dataframe thead th {\n",
       "        text-align: right;\n",
       "    }\n",
       "</style>\n",
       "<table border=\"1\" class=\"dataframe\">\n",
       "  <thead>\n",
       "    <tr style=\"text-align: right;\">\n",
       "      <th></th>\n",
       "      <th>client_id</th>\n",
       "      <th>datetime</th>\n",
       "      <th>code</th>\n",
       "      <th>type</th>\n",
       "      <th>sum</th>\n",
       "      <th>code_description</th>\n",
       "      <th>type_description</th>\n",
       "      <th>days</th>\n",
       "      <th>time</th>\n",
       "    </tr>\n",
       "  </thead>\n",
       "  <tbody>\n",
       "    <tr>\n",
       "      <th>0</th>\n",
       "      <td>96372458</td>\n",
       "      <td>421 06:33:15</td>\n",
       "      <td>6011</td>\n",
       "      <td>2010</td>\n",
       "      <td>-561478.94</td>\n",
       "      <td>Финансовые институты — снятие наличности автом...</td>\n",
       "      <td>Выдача наличных в АТМ</td>\n",
       "      <td>421</td>\n",
       "      <td>06:33:15</td>\n",
       "    </tr>\n",
       "    <tr>\n",
       "      <th>1</th>\n",
       "      <td>24567813</td>\n",
       "      <td>377 17:20:40</td>\n",
       "      <td>6011</td>\n",
       "      <td>7010</td>\n",
       "      <td>67377.47</td>\n",
       "      <td>Финансовые институты — снятие наличности автом...</td>\n",
       "      <td>Взнос наличных через АТМ (в своем тер.банке)</td>\n",
       "      <td>377</td>\n",
       "      <td>17:20:40</td>\n",
       "    </tr>\n",
       "    <tr>\n",
       "      <th>2</th>\n",
       "      <td>21717441</td>\n",
       "      <td>55 13:38:47</td>\n",
       "      <td>6011</td>\n",
       "      <td>2010</td>\n",
       "      <td>-44918.32</td>\n",
       "      <td>Финансовые институты — снятие наличности автом...</td>\n",
       "      <td>Выдача наличных в АТМ</td>\n",
       "      <td>55</td>\n",
       "      <td>13:38:47</td>\n",
       "    </tr>\n",
       "    <tr>\n",
       "      <th>3</th>\n",
       "      <td>14331004</td>\n",
       "      <td>263 12:57:08</td>\n",
       "      <td>6011</td>\n",
       "      <td>2010</td>\n",
       "      <td>-3368873.66</td>\n",
       "      <td>Финансовые институты — снятие наличности автом...</td>\n",
       "      <td>Выдача наличных в АТМ</td>\n",
       "      <td>263</td>\n",
       "      <td>12:57:08</td>\n",
       "    </tr>\n",
       "    <tr>\n",
       "      <th>4</th>\n",
       "      <td>85302434</td>\n",
       "      <td>151 10:34:12</td>\n",
       "      <td>4814</td>\n",
       "      <td>1030</td>\n",
       "      <td>-3368.87</td>\n",
       "      <td>Звонки с использованием телефонов, считывающих...</td>\n",
       "      <td>Оплата услуги. Банкоматы</td>\n",
       "      <td>151</td>\n",
       "      <td>10:34:12</td>\n",
       "    </tr>\n",
       "  </tbody>\n",
       "</table>\n",
       "</div>"
      ],
      "text/plain": [
       "   client_id      datetime  code  type         sum  \\\n",
       "0   96372458  421 06:33:15  6011  2010  -561478.94   \n",
       "1   24567813  377 17:20:40  6011  7010    67377.47   \n",
       "2   21717441   55 13:38:47  6011  2010   -44918.32   \n",
       "3   14331004  263 12:57:08  6011  2010 -3368873.66   \n",
       "4   85302434  151 10:34:12  4814  1030    -3368.87   \n",
       "\n",
       "                                    code_description  \\\n",
       "0  Финансовые институты — снятие наличности автом...   \n",
       "1  Финансовые институты — снятие наличности автом...   \n",
       "2  Финансовые институты — снятие наличности автом...   \n",
       "3  Финансовые институты — снятие наличности автом...   \n",
       "4  Звонки с использованием телефонов, считывающих...   \n",
       "\n",
       "                               type_description  days      time  \n",
       "0                         Выдача наличных в АТМ   421  06:33:15  \n",
       "1  Взнос наличных через АТМ (в своем тер.банке)   377  17:20:40  \n",
       "2                         Выдача наличных в АТМ    55  13:38:47  \n",
       "3                         Выдача наличных в АТМ   263  12:57:08  \n",
       "4                      Оплата услуги. Банкоматы   151  10:34:12  "
      ]
     },
     "execution_count": 59,
     "metadata": {},
     "output_type": "execute_result"
    }
   ],
   "source": [
    "merged_table['time'] = transactions.datetime.apply(lambda x: pd.Series(str(x).split(\" \")))[1]\n",
    "merged_table.head(5)"
   ]
  },
  {
   "cell_type": "code",
   "execution_count": 60,
   "metadata": {},
   "outputs": [
    {
     "name": "stdout",
     "output_type": "stream",
     "text": [
      "456\n"
     ]
    }
   ],
   "source": [
    "recent_day = max(merged_table['days'])\n",
    "print(recent_day)"
   ]
  },
  {
   "cell_type": "markdown",
   "metadata": {},
   "source": [
    "The recent transaction was made at 456-th day. Then, we will subtract each day in the data frame from this value to calculate the other 'recencies'."
   ]
  },
  {
   "cell_type": "code",
   "execution_count": 61,
   "metadata": {},
   "outputs": [
    {
     "data": {
      "text/html": [
       "<div>\n",
       "<style scoped>\n",
       "    .dataframe tbody tr th:only-of-type {\n",
       "        vertical-align: middle;\n",
       "    }\n",
       "\n",
       "    .dataframe tbody tr th {\n",
       "        vertical-align: top;\n",
       "    }\n",
       "\n",
       "    .dataframe thead th {\n",
       "        text-align: right;\n",
       "    }\n",
       "</style>\n",
       "<table border=\"1\" class=\"dataframe\">\n",
       "  <thead>\n",
       "    <tr style=\"text-align: right;\">\n",
       "      <th></th>\n",
       "      <th>client_id</th>\n",
       "      <th>recency</th>\n",
       "    </tr>\n",
       "  </thead>\n",
       "  <tbody>\n",
       "    <tr>\n",
       "      <th>0</th>\n",
       "      <td>96372458</td>\n",
       "      <td>8</td>\n",
       "    </tr>\n",
       "    <tr>\n",
       "      <th>1</th>\n",
       "      <td>24567813</td>\n",
       "      <td>57</td>\n",
       "    </tr>\n",
       "    <tr>\n",
       "      <th>2</th>\n",
       "      <td>21717441</td>\n",
       "      <td>8</td>\n",
       "    </tr>\n",
       "    <tr>\n",
       "      <th>3</th>\n",
       "      <td>14331004</td>\n",
       "      <td>5</td>\n",
       "    </tr>\n",
       "    <tr>\n",
       "      <th>4</th>\n",
       "      <td>85302434</td>\n",
       "      <td>40</td>\n",
       "    </tr>\n",
       "  </tbody>\n",
       "</table>\n",
       "</div>"
      ],
      "text/plain": [
       "   client_id  recency\n",
       "0   96372458        8\n",
       "1   24567813       57\n",
       "2   21717441        8\n",
       "3   14331004        5\n",
       "4   85302434       40"
      ]
     },
     "execution_count": 61,
     "metadata": {},
     "output_type": "execute_result"
    }
   ],
   "source": [
    "days = pd.DataFrame(merged_table.groupby('client_id')['days'].max()).reset_index() #finding the latest transaction\n",
    "merged_days = pd.merge(clients, days)\n",
    "merged_days['recency'] = recent_day - merged_days['days']\n",
    "clients['recency'] = merged_days['recency']\n",
    "clients.head(5)"
   ]
  },
  {
   "cell_type": "markdown",
   "metadata": {},
   "source": [
    "To calculate **frequency** we will count number of transactions of each client"
   ]
  },
  {
   "cell_type": "code",
   "execution_count": 62,
   "metadata": {},
   "outputs": [
    {
     "data": {
      "text/html": [
       "<div>\n",
       "<style scoped>\n",
       "    .dataframe tbody tr th:only-of-type {\n",
       "        vertical-align: middle;\n",
       "    }\n",
       "\n",
       "    .dataframe tbody tr th {\n",
       "        vertical-align: top;\n",
       "    }\n",
       "\n",
       "    .dataframe thead th {\n",
       "        text-align: right;\n",
       "    }\n",
       "</style>\n",
       "<table border=\"1\" class=\"dataframe\">\n",
       "  <thead>\n",
       "    <tr style=\"text-align: right;\">\n",
       "      <th></th>\n",
       "      <th>client_id</th>\n",
       "      <th>recency</th>\n",
       "      <th>frequency</th>\n",
       "    </tr>\n",
       "  </thead>\n",
       "  <tbody>\n",
       "    <tr>\n",
       "      <th>0</th>\n",
       "      <td>96372458</td>\n",
       "      <td>8</td>\n",
       "      <td>13</td>\n",
       "    </tr>\n",
       "    <tr>\n",
       "      <th>1</th>\n",
       "      <td>24567813</td>\n",
       "      <td>57</td>\n",
       "      <td>14</td>\n",
       "    </tr>\n",
       "    <tr>\n",
       "      <th>2</th>\n",
       "      <td>21717441</td>\n",
       "      <td>8</td>\n",
       "      <td>15</td>\n",
       "    </tr>\n",
       "    <tr>\n",
       "      <th>3</th>\n",
       "      <td>14331004</td>\n",
       "      <td>5</td>\n",
       "      <td>23</td>\n",
       "    </tr>\n",
       "    <tr>\n",
       "      <th>4</th>\n",
       "      <td>85302434</td>\n",
       "      <td>40</td>\n",
       "      <td>8</td>\n",
       "    </tr>\n",
       "  </tbody>\n",
       "</table>\n",
       "</div>"
      ],
      "text/plain": [
       "   client_id  recency  frequency\n",
       "0   96372458        8         13\n",
       "1   24567813       57         14\n",
       "2   21717441        8         15\n",
       "3   14331004        5         23\n",
       "4   85302434       40          8"
      ]
     },
     "execution_count": 62,
     "metadata": {},
     "output_type": "execute_result"
    }
   ],
   "source": [
    "frequency = pd.DataFrame(merged_table.groupby('client_id')['datetime'].count()).reset_index()\n",
    "merged_frequency = pd.merge(clients, frequency).rename(columns={'datetime':'frequency'})\n",
    "clients['frequency'] = merged_frequency['frequency']\n",
    "clients.head(5)"
   ]
  },
  {
   "cell_type": "markdown",
   "metadata": {},
   "source": [
    "For **monetary value** we will sum all transactions for each client."
   ]
  },
  {
   "cell_type": "code",
   "execution_count": 63,
   "metadata": {},
   "outputs": [
    {
     "data": {
      "text/html": [
       "<div>\n",
       "<style scoped>\n",
       "    .dataframe tbody tr th:only-of-type {\n",
       "        vertical-align: middle;\n",
       "    }\n",
       "\n",
       "    .dataframe tbody tr th {\n",
       "        vertical-align: top;\n",
       "    }\n",
       "\n",
       "    .dataframe thead th {\n",
       "        text-align: right;\n",
       "    }\n",
       "</style>\n",
       "<table border=\"1\" class=\"dataframe\">\n",
       "  <thead>\n",
       "    <tr style=\"text-align: right;\">\n",
       "      <th></th>\n",
       "      <th>client_id</th>\n",
       "      <th>recency</th>\n",
       "      <th>frequency</th>\n",
       "      <th>monetary_value</th>\n",
       "    </tr>\n",
       "  </thead>\n",
       "  <tbody>\n",
       "    <tr>\n",
       "      <th>0</th>\n",
       "      <td>96372458</td>\n",
       "      <td>8</td>\n",
       "      <td>13</td>\n",
       "      <td>-1102812.03</td>\n",
       "    </tr>\n",
       "    <tr>\n",
       "      <th>1</th>\n",
       "      <td>24567813</td>\n",
       "      <td>57</td>\n",
       "      <td>14</td>\n",
       "      <td>-488237.85</td>\n",
       "    </tr>\n",
       "    <tr>\n",
       "      <th>2</th>\n",
       "      <td>21717441</td>\n",
       "      <td>8</td>\n",
       "      <td>15</td>\n",
       "      <td>-3135792.54</td>\n",
       "    </tr>\n",
       "    <tr>\n",
       "      <th>3</th>\n",
       "      <td>14331004</td>\n",
       "      <td>5</td>\n",
       "      <td>23</td>\n",
       "      <td>-5893527.32</td>\n",
       "    </tr>\n",
       "    <tr>\n",
       "      <th>4</th>\n",
       "      <td>85302434</td>\n",
       "      <td>40</td>\n",
       "      <td>8</td>\n",
       "      <td>-101501.02</td>\n",
       "    </tr>\n",
       "  </tbody>\n",
       "</table>\n",
       "</div>"
      ],
      "text/plain": [
       "   client_id  recency  frequency  monetary_value\n",
       "0   96372458        8         13     -1102812.03\n",
       "1   24567813       57         14      -488237.85\n",
       "2   21717441        8         15     -3135792.54\n",
       "3   14331004        5         23     -5893527.32\n",
       "4   85302434       40          8      -101501.02"
      ]
     },
     "execution_count": 63,
     "metadata": {},
     "output_type": "execute_result"
    }
   ],
   "source": [
    "summary = pd.DataFrame(merged_table.groupby('client_id')['sum'].sum()).reset_index()\n",
    "merged_summary = pd.merge(clients, summary).rename(columns={'sum':'monetary_value'})\n",
    "clients['monetary_value'] = merged_summary['monetary_value']\n",
    "clients_df = clients\n",
    "clients.head(5)"
   ]
  },
  {
   "cell_type": "markdown",
   "metadata": {},
   "source": [
    "RFM technique is convenient for data preparation and feature engineering done prior to application of a clustering algorithm. Now we have three defined features that can be used to categorize the clients into different groups based on their indicators. \n",
    "\n",
    "These features hold the following meaning:\n",
    "1. The smallest recency indicates the best clients since the newest transactions are better and it implies that the client is probably still using the services. The biggest recency(the oldest transactions) is the worst option indicating a possible loss of a customer.\n",
    "2. The highest frequency demonstrates the best clients who complete transactions regularly. The lowest frequency shows the most inactive customers or people who have completed a couple of random transactions. The latter may also be considered as a lost customer not holding much value in a dataset.\n",
    "3. The biggest absolute values from monetary_values column indicate the best clients with high financial value in a dataset(the transactions may be positive or negative numbers, that's why we use their absolute values). The smallest monetary values imply the smallest significance of clients generally in a dataset."
   ]
  },
  {
   "cell_type": "markdown",
   "metadata": {},
   "source": [
    "### Part 2:"
   ]
  },
  {
   "cell_type": "markdown",
   "metadata": {},
   "source": [
    "after researching datasets, we found out that 'types' dataframe has 'н/д' values, which are NaN"
   ]
  },
  {
   "cell_type": "code",
   "execution_count": 64,
   "metadata": {},
   "outputs": [],
   "source": [
    "nan_values = types[types['type_description'].str.contains('н/д')]\n",
    "types.drop(types[types['type_description'].str.contains('н/д')].index, inplace=True)\n",
    "list_types = nan_values['type'].tolist()\n",
    "merged_table.loc[merged_table['type'].isin(list_types), 'type'] = 4035"
   ]
  },
  {
   "cell_type": "markdown",
   "metadata": {},
   "source": [
    "In second part we will create features for clustering."
   ]
  },
  {
   "cell_type": "code",
   "execution_count": 65,
   "metadata": {},
   "outputs": [
    {
     "data": {
      "text/html": [
       "<div>\n",
       "<style scoped>\n",
       "    .dataframe tbody tr th:only-of-type {\n",
       "        vertical-align: middle;\n",
       "    }\n",
       "\n",
       "    .dataframe tbody tr th {\n",
       "        vertical-align: top;\n",
       "    }\n",
       "\n",
       "    .dataframe thead th {\n",
       "        text-align: right;\n",
       "    }\n",
       "</style>\n",
       "<table border=\"1\" class=\"dataframe\">\n",
       "  <thead>\n",
       "    <tr style=\"text-align: right;\">\n",
       "      <th></th>\n",
       "      <th>client_id</th>\n",
       "      <th>type_description</th>\n",
       "    </tr>\n",
       "  </thead>\n",
       "  <tbody>\n",
       "    <tr>\n",
       "      <th>0</th>\n",
       "      <td>96372458</td>\n",
       "      <td>Выдача наличных в АТМ</td>\n",
       "    </tr>\n",
       "    <tr>\n",
       "      <th>1</th>\n",
       "      <td>24567813</td>\n",
       "      <td>Взнос наличных через АТМ (в своем тер.банке)</td>\n",
       "    </tr>\n",
       "    <tr>\n",
       "      <th>2</th>\n",
       "      <td>21717441</td>\n",
       "      <td>Выдача наличных в АТМ</td>\n",
       "    </tr>\n",
       "    <tr>\n",
       "      <th>3</th>\n",
       "      <td>14331004</td>\n",
       "      <td>Выдача наличных в АТМ</td>\n",
       "    </tr>\n",
       "    <tr>\n",
       "      <th>4</th>\n",
       "      <td>85302434</td>\n",
       "      <td>Оплата услуги. Банкоматы</td>\n",
       "    </tr>\n",
       "    <tr>\n",
       "      <th>...</th>\n",
       "      <td>...</td>\n",
       "      <td>...</td>\n",
       "    </tr>\n",
       "    <tr>\n",
       "      <th>130034</th>\n",
       "      <td>15836839</td>\n",
       "      <td>Покупка. POS</td>\n",
       "    </tr>\n",
       "    <tr>\n",
       "      <th>130035</th>\n",
       "      <td>28369355</td>\n",
       "      <td>Списание с карты по операции “перевода с карты...</td>\n",
       "    </tr>\n",
       "    <tr>\n",
       "      <th>130036</th>\n",
       "      <td>40949707</td>\n",
       "      <td>Покупка. POS</td>\n",
       "    </tr>\n",
       "    <tr>\n",
       "      <th>130037</th>\n",
       "      <td>7174462</td>\n",
       "      <td>Покупка. POS</td>\n",
       "    </tr>\n",
       "    <tr>\n",
       "      <th>130038</th>\n",
       "      <td>92197764</td>\n",
       "      <td>Покупка. POS</td>\n",
       "    </tr>\n",
       "  </tbody>\n",
       "</table>\n",
       "<p>130039 rows × 2 columns</p>\n",
       "</div>"
      ],
      "text/plain": [
       "        client_id                                   type_description\n",
       "0        96372458                              Выдача наличных в АТМ\n",
       "1        24567813       Взнос наличных через АТМ (в своем тер.банке)\n",
       "2        21717441                              Выдача наличных в АТМ\n",
       "3        14331004                              Выдача наличных в АТМ\n",
       "4        85302434                           Оплата услуги. Банкоматы\n",
       "...           ...                                                ...\n",
       "130034   15836839                                      Покупка. POS \n",
       "130035   28369355  Списание с карты по операции “перевода с карты...\n",
       "130036   40949707                                      Покупка. POS \n",
       "130037    7174462                                      Покупка. POS \n",
       "130038   92197764                                      Покупка. POS \n",
       "\n",
       "[130039 rows x 2 columns]"
      ]
     },
     "execution_count": 65,
     "metadata": {},
     "output_type": "execute_result"
    }
   ],
   "source": [
    "types = transactions.join(types.set_index('type'), on='type')\n",
    "types.drop(['datetime', 'code', 'type', 'sum'], axis = 1, inplace = True)\n",
    "types"
   ]
  },
  {
   "cell_type": "markdown",
   "metadata": {},
   "source": [
    "After that, we grouped type_description by client_id to find out which transactions the client used as a whole. Based on this data, it will be possible to classify customers."
   ]
  },
  {
   "cell_type": "code",
   "execution_count": 66,
   "metadata": {},
   "outputs": [
    {
     "data": {
      "text/html": [
       "<div>\n",
       "<style scoped>\n",
       "    .dataframe tbody tr th:only-of-type {\n",
       "        vertical-align: middle;\n",
       "    }\n",
       "\n",
       "    .dataframe tbody tr th {\n",
       "        vertical-align: top;\n",
       "    }\n",
       "\n",
       "    .dataframe thead th {\n",
       "        text-align: right;\n",
       "    }\n",
       "</style>\n",
       "<table border=\"1\" class=\"dataframe\">\n",
       "  <thead>\n",
       "    <tr style=\"text-align: right;\">\n",
       "      <th></th>\n",
       "      <th>client_id</th>\n",
       "      <th>type_description</th>\n",
       "    </tr>\n",
       "  </thead>\n",
       "  <tbody>\n",
       "    <tr>\n",
       "      <th>0</th>\n",
       "      <td>22899</td>\n",
       "      <td>Наличные.   АТМ Плата за получение наличных в ...</td>\n",
       "    </tr>\n",
       "    <tr>\n",
       "      <th>1</th>\n",
       "      <td>27914</td>\n",
       "      <td>Взнос наличных через АТМ (в своем тер.банке) О...</td>\n",
       "    </tr>\n",
       "    <tr>\n",
       "      <th>2</th>\n",
       "      <td>28753</td>\n",
       "      <td>Покупка. POS  Оплата услуги. Банкоматы Покупка...</td>\n",
       "    </tr>\n",
       "    <tr>\n",
       "      <th>3</th>\n",
       "      <td>31385</td>\n",
       "      <td>Покупка. POS  Выдача наличных в АТМ Выдача нал...</td>\n",
       "    </tr>\n",
       "    <tr>\n",
       "      <th>4</th>\n",
       "      <td>38084</td>\n",
       "      <td>Списание с карты на карту по операции &lt;перевод...</td>\n",
       "    </tr>\n",
       "  </tbody>\n",
       "</table>\n",
       "</div>"
      ],
      "text/plain": [
       "   client_id                                   type_description\n",
       "0      22899  Наличные.   АТМ Плата за получение наличных в ...\n",
       "1      27914  Взнос наличных через АТМ (в своем тер.банке) О...\n",
       "2      28753  Покупка. POS  Оплата услуги. Банкоматы Покупка...\n",
       "3      31385  Покупка. POS  Выдача наличных в АТМ Выдача нал...\n",
       "4      38084  Списание с карты на карту по операции <перевод..."
      ]
     },
     "execution_count": 66,
     "metadata": {},
     "output_type": "execute_result"
    }
   ],
   "source": [
    "group_type_desc = types.groupby(['client_id'])['type_description'].apply(lambda x: ' '.join([str(i) for i in x])).reset_index()\n",
    "group_type_desc.head(5)"
   ]
  },
  {
   "cell_type": "markdown",
   "metadata": {},
   "source": [
    "The algorithm associated with hierarchical clustering is quite voluminous and unfortunately, our virtual environment cannot withstand such a scale. But nevertheless, to test our code, we decided to select a specific sample from our dataset to check the correctness of the written algorithm and check the clients from this sample "
   ]
  },
  {
   "cell_type": "code",
   "execution_count": 67,
   "metadata": {},
   "outputs": [],
   "source": [
    "df1 = group_type_desc.iloc[:2000,:]\n",
    "df2 = group_type_desc.iloc[2001:,:]"
   ]
  },
  {
   "cell_type": "markdown",
   "metadata": {},
   "source": [
    "For 'types' dataset:"
   ]
  },
  {
   "cell_type": "code",
   "execution_count": 68,
   "metadata": {},
   "outputs": [],
   "source": [
    "#lines = df1['type_description'].to_list()"
   ]
  },
  {
   "cell_type": "code",
   "execution_count": 69,
   "metadata": {},
   "outputs": [],
   "source": [
    "#lins = np.array([])\n",
    "#for line in lines:\n",
    "#    lins = np.append(lins, line)\n",
    "#for x in range(len(lins)):\n",
    "#    lins[x] = lins[x].lower()\n",
    "#words_per_text = np.zeros((2000,), dtype=object)\n",
    "#count=0\n",
    "#for line in lins:\n",
    "#    words_per_sentence = np.array([])\n",
    " #   word = re.split('[^абвгдеёжзийклмнопрстуфхцчшщъыьэюя]',line)\n",
    "  #  word = [i for i in word if i != '']\n",
    "   # words_per_sentence = np.append(words_per_sentence,word)\n",
    "    #words_per_text[count] = words_per_sentence\n",
    "    #count += 1"
   ]
  },
  {
   "cell_type": "code",
   "execution_count": 70,
   "metadata": {},
   "outputs": [],
   "source": [
    "#unique_words = np.array([])\n",
    "#for sentence in words_per_text:\n",
    " #   unique_words = np.concatenate((unique_words,sentence))\n",
    "#unique_words = np.unique(unique_words)\n",
    "#print(unique_words)"
   ]
  },
  {
   "cell_type": "code",
   "execution_count": 71,
   "metadata": {},
   "outputs": [],
   "source": [
    "#client = df1.groupby('client_id').count()\n",
    "#client['client_id'] = client.index\n",
    "#ln = client['client_id'].to_list()"
   ]
  },
  {
   "cell_type": "code",
   "execution_count": 72,
   "metadata": {},
   "outputs": [],
   "source": [
    "#matrix = pd.DataFrame(columns=unique_words,index=ln)\n",
    "#for line in range(2000):\n",
    " #   for word in range(52):\n",
    " #       count = (words_per_text[line]==unique_words[word]).sum()\n",
    "  #      matrix.iloc[line,word] = count\n",
    "#matrix"
   ]
  },
  {
   "cell_type": "markdown",
   "metadata": {},
   "source": [
    "# Supervised learning"
   ]
  },
  {
   "cell_type": "markdown",
   "metadata": {},
   "source": [
    "Preparing for supervised learning"
   ]
  },
  {
   "cell_type": "code",
   "execution_count": 73,
   "metadata": {},
   "outputs": [],
   "source": [
    "merged_table = transactions.merge(train,on='client_id',how='left')\n",
    "merged_table.dropna(inplace=True)\n",
    "merged_table['day'] = transactions.datetime.apply(lambda x: pd.Series(str(x).split(\" \")))[0]\n",
    "merged_table.drop(['datetime'],axis=1,inplace=True)\n",
    "df_new = merged_table"
   ]
  },
  {
   "cell_type": "code",
   "execution_count": 74,
   "metadata": {},
   "outputs": [
    {
     "data": {
      "text/plain": [
       "array([[ 1.57323554,  0.6884737 , -0.23501079, -0.87417515,  1.36698954],\n",
       "       [-1.05552774,  0.6884737 , -0.23501079, -0.04532599, -1.44433108],\n",
       "       [ 1.18343625, -1.29943102, -0.66192027,  0.02134232, -0.70693551],\n",
       "       ...,\n",
       "       [-0.3783184 , -0.30796977, -0.62707051, -0.03800185,  1.19032185],\n",
       "       [-1.56761722, -0.30796977, -0.67063271, -0.01422612,  1.27481509],\n",
       "       [ 1.42623561, -0.1053596 , -0.62707051,  0.00728791,  0.58350674]])"
      ]
     },
     "execution_count": 74,
     "metadata": {},
     "output_type": "execute_result"
    }
   ],
   "source": [
    "from sklearn.preprocessing import StandardScaler\n",
    "from sklearn.neighbors import KNeighborsClassifier\n",
    "from sklearn.model_selection import train_test_split, GridSearchCV\n",
    "from sklearn.metrics import classification_report, confusion_matrix, accuracy_score\n",
    "from sklearn.model_selection import GridSearchCV\n",
    "from sklearn.ensemble import RandomForestClassifier\n",
    "from sklearn.metrics import accuracy_score, plot_confusion_matrix\n",
    "\n",
    "from sklearn.model_selection import cross_val_score\n",
    "from sklearn.tree import DecisionTreeClassifier\n",
    "from sklearn.datasets import load_breast_cancer\n",
    "from sklearn.neighbors import KNeighborsClassifier\n",
    "from sklearn.model_selection import train_test_split\n",
    "from sklearn.metrics import roc_curve\n",
    "from sklearn.metrics import auc\n",
    "import matplotlib.pyplot as plt\n",
    "\n",
    "\n",
    "#Standardizing features\n",
    "scaler = StandardScaler()\n",
    "scaler.fit(df_new.drop('target', axis=1))\n",
    "scaled_features = scaler.transform(df_new.drop('target', axis=1))\n",
    "scaled_features"
   ]
  },
  {
   "cell_type": "code",
   "execution_count": 75,
   "metadata": {},
   "outputs": [
    {
     "data": {
      "text/html": [
       "<div>\n",
       "<style scoped>\n",
       "    .dataframe tbody tr th:only-of-type {\n",
       "        vertical-align: middle;\n",
       "    }\n",
       "\n",
       "    .dataframe tbody tr th {\n",
       "        vertical-align: top;\n",
       "    }\n",
       "\n",
       "    .dataframe thead th {\n",
       "        text-align: right;\n",
       "    }\n",
       "</style>\n",
       "<table border=\"1\" class=\"dataframe\">\n",
       "  <thead>\n",
       "    <tr style=\"text-align: right;\">\n",
       "      <th></th>\n",
       "      <th>client_id</th>\n",
       "      <th>code</th>\n",
       "      <th>type</th>\n",
       "      <th>sum</th>\n",
       "      <th>target</th>\n",
       "    </tr>\n",
       "  </thead>\n",
       "  <tbody>\n",
       "    <tr>\n",
       "      <th>0</th>\n",
       "      <td>1.573236</td>\n",
       "      <td>0.688474</td>\n",
       "      <td>-0.235011</td>\n",
       "      <td>-0.874175</td>\n",
       "      <td>1.366990</td>\n",
       "    </tr>\n",
       "    <tr>\n",
       "      <th>1</th>\n",
       "      <td>-1.055528</td>\n",
       "      <td>0.688474</td>\n",
       "      <td>-0.235011</td>\n",
       "      <td>-0.045326</td>\n",
       "      <td>-1.444331</td>\n",
       "    </tr>\n",
       "    <tr>\n",
       "      <th>2</th>\n",
       "      <td>1.183436</td>\n",
       "      <td>-1.299431</td>\n",
       "      <td>-0.661920</td>\n",
       "      <td>0.021342</td>\n",
       "      <td>-0.706936</td>\n",
       "    </tr>\n",
       "    <tr>\n",
       "      <th>3</th>\n",
       "      <td>-0.713832</td>\n",
       "      <td>-0.307970</td>\n",
       "      <td>-0.627071</td>\n",
       "      <td>0.024225</td>\n",
       "      <td>1.190322</td>\n",
       "    </tr>\n",
       "    <tr>\n",
       "      <th>4</th>\n",
       "      <td>1.166690</td>\n",
       "      <td>0.686813</td>\n",
       "      <td>1.969236</td>\n",
       "      <td>0.035822</td>\n",
       "      <td>1.382352</td>\n",
       "    </tr>\n",
       "  </tbody>\n",
       "</table>\n",
       "</div>"
      ],
      "text/plain": [
       "   client_id      code      type       sum    target\n",
       "0   1.573236  0.688474 -0.235011 -0.874175  1.366990\n",
       "1  -1.055528  0.688474 -0.235011 -0.045326 -1.444331\n",
       "2   1.183436 -1.299431 -0.661920  0.021342 -0.706936\n",
       "3  -0.713832 -0.307970 -0.627071  0.024225  1.190322\n",
       "4   1.166690  0.686813  1.969236  0.035822  1.382352"
      ]
     },
     "execution_count": 75,
     "metadata": {},
     "output_type": "execute_result"
    }
   ],
   "source": [
    "df_fit = pd.DataFrame(scaled_features, columns=merged_table.columns[:-1])\n",
    "df_fit.head()"
   ]
  },
  {
   "cell_type": "markdown",
   "metadata": {},
   "source": [
    "## KNN"
   ]
  },
  {
   "cell_type": "code",
   "execution_count": 76,
   "metadata": {},
   "outputs": [],
   "source": [
    "X = df_fit\n",
    "y = df_new['target']\n",
    "\n",
    "X_train, X_test, y_train, y_test = train_test_split(X, y, test_size=0.2, random_state=42)"
   ]
  },
  {
   "cell_type": "code",
   "execution_count": 77,
   "metadata": {},
   "outputs": [
    {
     "data": {
      "text/plain": [
       "array([1., 1., 0., ..., 1., 1., 1.])"
      ]
     },
     "execution_count": 77,
     "metadata": {},
     "output_type": "execute_result"
    }
   ],
   "source": [
    "knn = KNeighborsClassifier(n_neighbors=5) # k=5\n",
    "knn.fit(X_train, y_train)\n",
    "pred = knn.predict(X_test)\n",
    "y_pred = knn.predict(X_test)\n",
    "pred"
   ]
  },
  {
   "cell_type": "code",
   "execution_count": 78,
   "metadata": {},
   "outputs": [
    {
     "name": "stdout",
     "output_type": "stream",
     "text": [
      "[[5707 3715]\n",
      " [3863 5081]]\n",
      "              precision    recall  f1-score   support\n",
      "\n",
      "         0.0       0.60      0.61      0.60      9422\n",
      "         1.0       0.58      0.57      0.57      8944\n",
      "\n",
      "    accuracy                           0.59     18366\n",
      "   macro avg       0.59      0.59      0.59     18366\n",
      "weighted avg       0.59      0.59      0.59     18366\n",
      "\n",
      "Accuracy Score: 0.5873897419144071\n"
     ]
    }
   ],
   "source": [
    "print (confusion_matrix(y_test, pred))\n",
    "print (classification_report(y_test, pred))\n",
    "print ('Accuracy Score: ' + str(accuracy_score(y_test, y_pred)))"
   ]
  },
  {
   "cell_type": "markdown",
   "metadata": {},
   "source": [
    "With grid search:"
   ]
  },
  {
   "cell_type": "code",
   "execution_count": 79,
   "metadata": {},
   "outputs": [
    {
     "name": "stdout",
     "output_type": "stream",
     "text": [
      "Fitting 10 folds for each of 30 candidates, totalling 300 fits\n"
     ]
    },
    {
     "name": "stderr",
     "output_type": "stream",
     "text": [
      "[Parallel(n_jobs=1)]: Using backend SequentialBackend with 1 concurrent workers.\n",
      "[Parallel(n_jobs=1)]: Done 300 out of 300 | elapsed:  3.1min finished\n"
     ]
    }
   ],
   "source": [
    "knn = KNeighborsClassifier()\n",
    "k_range = list(range(1, 31))\n",
    "param_grid = dict(n_neighbors=k_range)\n",
    "\n",
    "# defining parameter range\n",
    "grid = GridSearchCV(knn, param_grid, cv=10, scoring='accuracy', return_train_score=False,verbose=1)\n",
    "\n",
    "# fitting the model for grid search\n",
    "grid_search=grid.fit(X_train, y_train)"
   ]
  },
  {
   "cell_type": "code",
   "execution_count": 80,
   "metadata": {},
   "outputs": [
    {
     "name": "stdout",
     "output_type": "stream",
     "text": [
      "{'n_neighbors': 4}\n",
      "Accuracy for our training dataset with tuning is : 58.06%\n"
     ]
    }
   ],
   "source": [
    "print(grid_search.best_params_)\n",
    "accuracy = grid_search.best_score_ *100\n",
    "print(\"Accuracy for our training dataset with tuning is : {:.2f}%\".format(accuracy) )"
   ]
  },
  {
   "cell_type": "code",
   "execution_count": 81,
   "metadata": {},
   "outputs": [
    {
     "name": "stdout",
     "output_type": "stream",
     "text": [
      "Accuracy for our testing dataset with tuning is : 72.69%\n"
     ]
    }
   ],
   "source": [
    "#Checking Accuracy on Test Data\n",
    "\n",
    "knn = KNeighborsClassifier(n_neighbors=4)\n",
    "\n",
    "knn.fit(X_test, y_test)\n",
    "\n",
    "knn_pred = knn.predict(X_test)\n",
    "\n",
    "test_accuracy=accuracy_score(y_test,knn_pred)*(100)\n",
    "\n",
    "print(\"Accuracy for our testing dataset with tuning is : {:.2f}%\".format(test_accuracy))"
   ]
  },
  {
   "cell_type": "code",
   "execution_count": 82,
   "metadata": {
    "scrolled": true
   },
   "outputs": [
    {
     "data": {
      "text/plain": [
       "[0.4123380158989437,\n",
       " 0.415114886202766,\n",
       " 0.41582271588805403,\n",
       " 0.41141239246433625,\n",
       " 0.41261025808559293,\n",
       " 0.4165849940106719,\n",
       " 0.41821844713056733,\n",
       " 0.4128825002722422,\n",
       " 0.41631275182402266,\n",
       " 0.41261025808559293,\n",
       " 0.4170205815093107,\n",
       " 0.4157138190133943,\n",
       " 0.4182728955678972,\n",
       " 0.41642164869868237,\n",
       " 0.416911684634651,\n",
       " 0.4143526080801481,\n",
       " 0.41751061744527934,\n",
       " 0.41718392682130023,\n",
       " 0.41620385494936296,\n",
       " 0.4166938908853316,\n",
       " 0.41653054557334207,\n",
       " 0.4165849940106719,\n",
       " 0.4168027877599913,\n",
       " 0.4170205815093107,\n",
       " 0.4167483393226614,\n",
       " 0.4157138190133943,\n",
       " 0.4152237830774257,\n",
       " 0.4163672002613525,\n",
       " 0.41778285963192857,\n",
       " 0.41756506588260917,\n",
       " 0.41854513775454644,\n",
       " 0.4144615049548078,\n",
       " 0.41462485026679735,\n",
       " 0.4168572361973211,\n",
       " 0.41767396275726887,\n",
       " 0.41429815964281824,\n",
       " 0.4162583033866928,\n",
       " 0.4150604377654361,\n",
       " 0.4144615049548078]"
      ]
     },
     "execution_count": 82,
     "metadata": {},
     "output_type": "execute_result"
    }
   ],
   "source": [
    "error_rate = []\n",
    "\n",
    "for i in range(1,40):\n",
    "    knn = KNeighborsClassifier(n_neighbors=i)\n",
    "    knn.fit(X_train, y_train)\n",
    "    pred_i = knn.predict(X_test)\n",
    "    error_rate.append(np.mean(pred_i != y_test))\n",
    "    \n",
    "error_rate"
   ]
  },
  {
   "cell_type": "code",
   "execution_count": 83,
   "metadata": {},
   "outputs": [
    {
     "data": {
      "text/plain": [
       "Text(0, 0.5, 'Mean error rate')"
      ]
     },
     "execution_count": 83,
     "metadata": {},
     "output_type": "execute_result"
    },
    {
     "data": {
      "image/png": "[encoded data removed]",
      "text/plain": [
       "<Figure size 720x432 with 1 Axes>"
      ]
     },
     "metadata": {
      "needs_background": "light"
     },
     "output_type": "display_data"
    }
   ],
   "source": [
    "plt.figure(figsize=(10,6))\n",
    "plt.plot(range(1,40), error_rate, color='grey', marker='o', markerfacecolor='red')\n",
    "plt.title('Error rate vs K value')\n",
    "plt.xlabel('K value')\n",
    "plt.ylabel('Mean error rate')"
   ]
  },
  {
   "cell_type": "code",
   "execution_count": 84,
   "metadata": {},
   "outputs": [
    {
     "name": "stdout",
     "output_type": "stream",
     "text": [
      "[[7492 1930]\n",
      " [2085 6859]]\n",
      "              precision    recall  f1-score   support\n",
      "\n",
      "         0.0       0.78      0.80      0.79      9422\n",
      "         1.0       0.78      0.77      0.77      8944\n",
      "\n",
      "    accuracy                           0.78     18366\n",
      "   macro avg       0.78      0.78      0.78     18366\n",
      "weighted avg       0.78      0.78      0.78     18366\n",
      "\n",
      "Accuracy Score: 78.13895241206578\n"
     ]
    }
   ],
   "source": [
    "knn = KNeighborsClassifier(n_neighbors=3)\n",
    "knn.fit(X_test, y_test)\n",
    "knn_pred = knn.predict(X_test)\n",
    "test_accuracy=accuracy_score(y_test,knn_pred)*(100)\n",
    "\n",
    "print(confusion_matrix(y_test, knn_pred))\n",
    "print(classification_report(y_test, knn_pred))\n",
    "print ('Accuracy Score: ' + str(test_accuracy))"
   ]
  },
  {
   "cell_type": "code",
   "execution_count": 85,
   "metadata": {},
   "outputs": [
    {
     "data": {
      "image/png": "[encoded data removed]",
      "text/plain": [
       "<Figure size 432x288 with 1 Axes>"
      ]
     },
     "metadata": {
      "needs_background": "light"
     },
     "output_type": "display_data"
    }
   ],
   "source": [
    "X = df_fit\n",
    "y = merged_table['target']\n",
    "\n",
    "X_train, X_test, y_train, y_test = train_test_split(X, y, test_size=0.2, random_state=42)\n",
    "knn = KNeighborsClassifier(n_neighbors=37)\n",
    "knn.fit(X_train,y_train)\n",
    "\n",
    "y_scores = knn.predict_proba(X_test)\n",
    "fpr, tpr, threshold = roc_curve(y_test, y_scores[:, 1])\n",
    "roc_auc = auc(fpr, tpr)\n",
    "\n",
    "plt.title('Receiver Operating Characteristic')\n",
    "plt.plot(fpr, tpr, 'b', label = 'AUC = %0.2f' % roc_auc)\n",
    "plt.legend(loc = 'lower right')\n",
    "plt.plot([0, 1], [0, 1],'r--')\n",
    "plt.xlim([0, 1])\n",
    "plt.ylim([0, 1])\n",
    "plt.ylabel('True Positive Rate')\n",
    "plt.xlabel('False Positive Rate')\n",
    "plt.title('ROC Curve of kNN')\n",
    "plt.show()"
   ]
  },
  {
   "cell_type": "code",
   "execution_count": 86,
   "metadata": {},
   "outputs": [
    {
     "data": {
      "text/plain": [
       "<sklearn.metrics._plot.confusion_matrix.ConfusionMatrixDisplay at 0x1df4441d970>"
      ]
     },
     "execution_count": 86,
     "metadata": {},
     "output_type": "execute_result"
    },
    {
     "data": {
      "image/png": "[encoded data removed]",
      "text/plain": [
       "<Figure size 432x288 with 2 Axes>"
      ]
     },
     "metadata": {
      "needs_background": "light"
     },
     "output_type": "display_data"
    }
   ],
   "source": [
    "plot_confusion_matrix(grid,X_train, y_train,values_format='d' )"
   ]
  },
  {
   "cell_type": "code",
   "execution_count": 87,
   "metadata": {},
   "outputs": [
    {
     "data": {
      "text/plain": [
       "<sklearn.metrics._plot.confusion_matrix.ConfusionMatrixDisplay at 0x1df43bc6b20>"
      ]
     },
     "execution_count": 87,
     "metadata": {},
     "output_type": "execute_result"
    },
    {
     "data": {
      "image/png": "[encoded data removed]",
      "text/plain": [
       "<Figure size 432x288 with 2 Axes>"
      ]
     },
     "metadata": {
      "needs_background": "light"
     },
     "output_type": "display_data"
    }
   ],
   "source": [
    "plot_confusion_matrix(grid,X_test, y_test,values_format='d' )"
   ]
  },
  {
   "cell_type": "markdown",
   "metadata": {},
   "source": [
    "## Random Forest"
   ]
  },
  {
   "cell_type": "code",
   "execution_count": 106,
   "metadata": {},
   "outputs": [],
   "source": [
    "forest = RandomForestClassifier(n_estimators=100, random_state=42)\n",
    "\n",
    "forest.fit(X_train, y_train)\n",
    "y_pred = forest.predict(X_test)"
   ]
  },
  {
   "cell_type": "code",
   "execution_count": 108,
   "metadata": {},
   "outputs": [
    {
     "data": {
      "text/plain": [
       "numpy.ndarray"
      ]
     },
     "execution_count": 108,
     "metadata": {},
     "output_type": "execute_result"
    }
   ],
   "source": [
    "type(y_pred)"
   ]
  },
  {
   "cell_type": "code",
   "execution_count": 109,
   "metadata": {},
   "outputs": [
    {
     "name": "stdout",
     "output_type": "stream",
     "text": [
      "0.6878552862821158 {'max_depth': 19}\n"
     ]
    }
   ],
   "source": [
    "parameters = {'max_depth':range(3,20)}\n",
    "rf = GridSearchCV(RandomForestClassifier(), parameters, n_jobs=4)\n",
    "rf.fit(X=X, y=y)\n",
    "rf_model = rf.best_estimator_\n",
    "print (rf.best_score_, rf.best_params_)"
   ]
  },
  {
   "cell_type": "code",
   "execution_count": 90,
   "metadata": {},
   "outputs": [
    {
     "data": {
      "image/png": "[encoded data removed]",
      "text/plain": [
       "<Figure size 432x288 with 1 Axes>"
      ]
     },
     "metadata": {
      "needs_background": "light"
     },
     "output_type": "display_data"
    }
   ],
   "source": [
    "rf = RandomForestClassifier(max_depth=21, random_state=42)\n",
    "rf.fit(X_train, y_train)\n",
    "\n",
    "y_pred = rf.predict(X_test)\n",
    "y_scores = rf.predict_proba(X_test)\n",
    "fpr, tpr, threshold = roc_curve(y_test, y_scores[:, 1])\n",
    "roc_auc = auc(fpr, tpr)\n",
    "\n",
    "plt.title('Receiver Operating Characteristic')\n",
    "plt.plot(fpr, tpr, 'b', label = 'AUC = %0.2f' % roc_auc)\n",
    "plt.legend(loc = 'lower right')\n",
    "plt.plot([0, 1], [0, 1],'r--')\n",
    "plt.xlim([0, 1])\n",
    "plt.ylim([0, 1])\n",
    "plt.ylabel('True Positive Rate')\n",
    "plt.xlabel('False Positive Rate')\n",
    "plt.title('ROC Curve of Random forest')\n",
    "plt.show()"
   ]
  },
  {
   "cell_type": "code",
   "execution_count": 105,
   "metadata": {},
   "outputs": [
    {
     "name": "stdout",
     "output_type": "stream",
     "text": [
      "[[7566 1856]\n",
      " [1792 7152]]\n",
      "              precision    recall  f1-score   support\n",
      "\n",
      "         0.0       0.81      0.80      0.81      9422\n",
      "         1.0       0.79      0.80      0.80      8944\n",
      "\n",
      "    accuracy                           0.80     18366\n",
      "   macro avg       0.80      0.80      0.80     18366\n",
      "weighted avg       0.80      0.80      0.80     18366\n",
      "\n",
      "Accuracy Score: 0.8013721006207122\n"
     ]
    }
   ],
   "source": [
    "print (confusion_matrix(y_test, y_pred))\n",
    "print (classification_report(y_test, y_pred))\n",
    "print ('Accuracy Score: ' + str(accuracy_score(y_test, y_pred)))"
   ]
  },
  {
   "cell_type": "code",
   "execution_count": 92,
   "metadata": {},
   "outputs": [],
   "source": [
    "forest_tuned = RandomForestClassifier(n_estimators=100,\n",
    "                                      criterion= 'gini',\n",
    "                                      bootstrap= False,\n",
    "                                      max_depth= 10,\n",
    "                                      max_features= 'auto',\n",
    "                                      min_samples_split= 20,\n",
    "                                      min_samples_leaf= 1,\n",
    "                                      random_state=42)\n",
    "forest_tuned.fit(X_train, y_train)\n",
    "y_pred = forest_tuned.predict(X_test)"
   ]
  },
  {
   "cell_type": "code",
   "execution_count": 93,
   "metadata": {},
   "outputs": [
    {
     "name": "stdout",
     "output_type": "stream",
     "text": [
      "[[6340 3082]\n",
      " [3617 5327]]\n",
      "              precision    recall  f1-score   support\n",
      "\n",
      "         0.0       0.64      0.67      0.65      9422\n",
      "         1.0       0.63      0.60      0.61      8944\n",
      "\n",
      "    accuracy                           0.64     18366\n",
      "   macro avg       0.64      0.63      0.63     18366\n",
      "weighted avg       0.64      0.64      0.63     18366\n",
      "\n",
      "Accuracy Score: 0.635249918327344\n"
     ]
    }
   ],
   "source": [
    "print (confusion_matrix(y_test, y_pred))\n",
    "print (classification_report(y_test, y_pred))\n",
    "print ('Accuracy Score: ' + str(accuracy_score(y_test, y_pred)))"
   ]
  },
  {
   "cell_type": "markdown",
   "metadata": {},
   "source": [
    "# Decision Tree"
   ]
  },
  {
   "cell_type": "code",
   "execution_count": 94,
   "metadata": {},
   "outputs": [
    {
     "name": "stdout",
     "output_type": "stream",
     "text": [
      "Accuracy: 0.72 (+/- 0.02)\n",
      "F1 Score: 0.77 (+/- 0.03)\n"
     ]
    }
   ],
   "source": [
    "from sklearn import metrics\n",
    "from sklearn.metrics import classification_report as report\n",
    "from sklearn.model_selection import cross_val_score\n",
    "from sklearn.tree import DecisionTreeClassifier\n",
    "tree = DecisionTreeClassifier(random_state=42)\n",
    "tree.fit(X_train, y_train)\n",
    "from sklearn.metrics import roc_auc_score,confusion_matrix,accuracy_score,roc_curve,auc\n",
    "y_pred_tree = tree.predict(X_test)\n",
    "scores_accur = cross_val_score(tree, X_train, y_train, cv=2)\n",
    "print(\"Accuracy: %0.2f (+/- %0.2f)\" % (scores_accur.mean(), scores_accur.std() * 2))\n",
    "scores_f1 = cross_val_score(tree, X_train, y_train, cv=5, scoring='f1_macro')\n",
    "print(\"F1 Score: %0.2f (+/- %0.2f)\" % (scores_f1.mean(), scores_f1.std() * 2))"
   ]
  },
  {
   "cell_type": "code",
   "execution_count": 95,
   "metadata": {},
   "outputs": [
    {
     "name": "stdout",
     "output_type": "stream",
     "text": [
      "              precision    recall  f1-score   support\n",
      "\n",
      "         0.0       0.81      0.80      0.81      9422\n",
      "         1.0       0.79      0.80      0.80      8944\n",
      "\n",
      "    accuracy                           0.80     18366\n",
      "   macro avg       0.80      0.80      0.80     18366\n",
      "weighted avg       0.80      0.80      0.80     18366\n",
      "\n",
      "Accuracy score: 0.8013721006207122\n"
     ]
    }
   ],
   "source": [
    "clf = DecisionTreeClassifier().fit(X_train, y_train)\n",
    "y_pred = clf.predict(X_test)\n",
    "print(report(y_test,y_pred))\n",
    "print('Accuracy score: ' + str(accuracy_score(y_test, y_pred)))"
   ]
  },
  {
   "cell_type": "code",
   "execution_count": 96,
   "metadata": {},
   "outputs": [],
   "source": [
    "max_features_range = np.arange(1,6,1)\n",
    "max_depth_range = np.arange(2,22,2)\n",
    "param_grid = dict(max_features = max_features_range, max_depth = max_depth_range)\n",
    "grid = GridSearchCV(clf,param_grid)"
   ]
  },
  {
   "cell_type": "code",
   "execution_count": 97,
   "metadata": {},
   "outputs": [
    {
     "data": {
      "text/plain": [
       "dict_keys(['ccp_alpha', 'class_weight', 'criterion', 'max_depth', 'max_features', 'max_leaf_nodes', 'min_impurity_decrease', 'min_impurity_split', 'min_samples_leaf', 'min_samples_split', 'min_weight_fraction_leaf', 'presort', 'random_state', 'splitter'])"
      ]
     },
     "execution_count": 97,
     "metadata": {},
     "output_type": "execute_result"
    }
   ],
   "source": [
    "clf.get_params().keys()"
   ]
  },
  {
   "cell_type": "code",
   "execution_count": 98,
   "metadata": {},
   "outputs": [
    {
     "data": {
      "text/plain": [
       "GridSearchCV(estimator=DecisionTreeClassifier(),\n",
       "             param_grid={'max_depth': array([ 2,  4,  6,  8, 10, 12, 14, 16, 18, 20]),\n",
       "                         'max_features': array([1, 2, 3, 4, 5])})"
      ]
     },
     "execution_count": 98,
     "metadata": {},
     "output_type": "execute_result"
    }
   ],
   "source": [
    "grid.fit(X_train, y_train)"
   ]
  },
  {
   "cell_type": "code",
   "execution_count": 99,
   "metadata": {},
   "outputs": [
    {
     "data": {
      "text/plain": [
       "({'max_depth': 20, 'max_features': 5}, 0.6789681459297576)"
      ]
     },
     "execution_count": 99,
     "metadata": {},
     "output_type": "execute_result"
    }
   ],
   "source": [
    "grid.best_params_, grid.best_score_"
   ]
  },
  {
   "cell_type": "code",
   "execution_count": 100,
   "metadata": {},
   "outputs": [
    {
     "data": {
      "text/plain": [
       "0.9602727424362468"
      ]
     },
     "execution_count": 100,
     "metadata": {},
     "output_type": "execute_result"
    }
   ],
   "source": [
    "roc_auc_score(y,clf.predict_proba(X)[:,1])"
   ]
  },
  {
   "cell_type": "code",
   "execution_count": 101,
   "metadata": {},
   "outputs": [
    {
     "data": {
      "image/png": "[encoded data removed]",
      "text/plain": [
       "<Figure size 432x288 with 1 Axes>"
      ]
     },
     "metadata": {
      "needs_background": "light"
     },
     "output_type": "display_data"
    }
   ],
   "source": [
    "y_scores = clf.predict_proba(X_test)\n",
    "fpr, tpr, threshold = roc_curve(y_test, y_scores[:, 1])\n",
    "roc_auc = auc(fpr, tpr)\n",
    "\n",
    "plt.title('Receiver Operating Characteristic')\n",
    "plt.plot(fpr, tpr, 'b', label = 'AUC = %0.2f' % roc_auc)\n",
    "plt.legend(loc = 'lower right')\n",
    "plt.plot([0, 1], [0, 1],'r--')\n",
    "plt.xlim([0, 1])\n",
    "plt.ylim([0, 1])\n",
    "plt.ylabel('True Positive Rate')\n",
    "plt.xlabel('False Positive Rate')\n",
    "plt.title('ROC Curve of Decision Tree')\n",
    "plt.show()"
   ]
  },
  {
   "cell_type": "markdown",
   "metadata": {},
   "source": [
    "# Analyze and Result Comparison"
   ]
  },
  {
   "cell_type": "code",
   "execution_count": 102,
   "metadata": {},
   "outputs": [],
   "source": [
    "d = {'Best Accuracy' : [64, 68, 82], 'Recall': [68, 72, 52], 'Precision': [61, 68, 53], 'Parameter 1': ['Max depth: 10', 'Max depth: 19', 'Max depth: 20'], 'Parameter 2': ['Max features: auto', 'N estimators: 100', 'Max features:5'], 'ROC/AUC': [0.76,0.62,0.96]}"
   ]
  },
  {
   "cell_type": "code",
   "execution_count": 103,
   "metadata": {},
   "outputs": [
    {
     "data": {
      "text/html": [
       "<div>\n",
       "<style scoped>\n",
       "    .dataframe tbody tr th:only-of-type {\n",
       "        vertical-align: middle;\n",
       "    }\n",
       "\n",
       "    .dataframe tbody tr th {\n",
       "        vertical-align: top;\n",
       "    }\n",
       "\n",
       "    .dataframe thead th {\n",
       "        text-align: right;\n",
       "    }\n",
       "</style>\n",
       "<table border=\"1\" class=\"dataframe\">\n",
       "  <thead>\n",
       "    <tr style=\"text-align: right;\">\n",
       "      <th></th>\n",
       "      <th>Best Accuracy</th>\n",
       "      <th>Recall</th>\n",
       "      <th>Precision</th>\n",
       "      <th>Parameter 1</th>\n",
       "      <th>Parameter 2</th>\n",
       "      <th>ROC/AUC</th>\n",
       "    </tr>\n",
       "  </thead>\n",
       "  <tbody>\n",
       "    <tr>\n",
       "      <th>KNN</th>\n",
       "      <td>64</td>\n",
       "      <td>68</td>\n",
       "      <td>61</td>\n",
       "      <td>Max depth: 10</td>\n",
       "      <td>Max features: auto</td>\n",
       "      <td>0.76</td>\n",
       "    </tr>\n",
       "    <tr>\n",
       "      <th>Random Forest</th>\n",
       "      <td>68</td>\n",
       "      <td>72</td>\n",
       "      <td>68</td>\n",
       "      <td>Max depth: 19</td>\n",
       "      <td>N estimators: 100</td>\n",
       "      <td>0.62</td>\n",
       "    </tr>\n",
       "    <tr>\n",
       "      <th>Decision Tree</th>\n",
       "      <td>82</td>\n",
       "      <td>52</td>\n",
       "      <td>53</td>\n",
       "      <td>Max depth: 20</td>\n",
       "      <td>Max features:5</td>\n",
       "      <td>0.96</td>\n",
       "    </tr>\n",
       "  </tbody>\n",
       "</table>\n",
       "</div>"
      ],
      "text/plain": [
       "               Best Accuracy  Recall  Precision    Parameter 1  \\\n",
       "KNN                       64      68         61  Max depth: 10   \n",
       "Random Forest             68      72         68  Max depth: 19   \n",
       "Decision Tree             82      52         53  Max depth: 20   \n",
       "\n",
       "                      Parameter 2  ROC/AUC  \n",
       "KNN            Max features: auto     0.76  \n",
       "Random Forest   N estimators: 100     0.62  \n",
       "Decision Tree      Max features:5     0.96  "
      ]
     },
     "execution_count": 103,
     "metadata": {},
     "output_type": "execute_result"
    }
   ],
   "source": [
    "data = pd.DataFrame(data=d, index=['KNN', 'Random Forest', 'Decision Tree'])\n",
    "data"
   ]
  },
  {
   "cell_type": "markdown",
   "metadata": {},
   "source": [
    "# Conclusion"
   ]
  },
  {
   "cell_type": "markdown",
   "metadata": {},
   "source": [
    "In order to segment the customers into multiple clusters, we worked with datasets of transactions, codes, and categories. The first stage was to prepare the data, which included handling null and duplicate entries as well as performing descriptive statistics to acquire a basic understanding of our data. Then, using representations of the features, we ran explanatory data analysis and developed new features to use for unsupervised learning. After we build model for prediction the gender of the clients. We used Decision Trees, KNN, Random Forest. Tune the hyper parameters, grid search, cross validation etc. Visualization of the models etc."
   ]
  }
 ],
 "metadata": {
  "kernelspec": {
   "display_name": "Python 3",
   "language": "python",
   "name": "python3"
  },
  "language_info": {
   "codemirror_mode": {
    "name": "ipython",
    "version": 3
   },
   "file_extension": ".py",
   "mimetype": "text/x-python",
   "name": "python",
   "nbconvert_exporter": "python",
   "pygments_lexer": "ipython3",
   "version": "3.8.5"
  }
 },
 "nbformat": 4,
 "nbformat_minor": 4
}
